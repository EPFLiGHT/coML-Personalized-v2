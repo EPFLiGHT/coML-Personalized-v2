{
 "cells": [
  {
   "cell_type": "code",
   "execution_count": 38,
   "metadata": {},
   "outputs": [],
   "source": [
    "import pandas as pd\n",
    "import matplotlib.pyplot as plt"
   ]
  },
  {
   "cell_type": "code",
   "execution_count": 19,
   "metadata": {},
   "outputs": [],
   "source": [
    "df = pd.read_csv(\"../data/private/0_raw_EbolaDatabase.csv\")"
   ]
  },
  {
   "cell_type": "code",
   "execution_count": 28,
   "metadata": {},
   "outputs": [
    {
     "data": {
      "text/html": [
       "<div>\n",
       "<style scoped>\n",
       "    .dataframe tbody tr th:only-of-type {\n",
       "        vertical-align: middle;\n",
       "    }\n",
       "\n",
       "    .dataframe tbody tr th {\n",
       "        vertical-align: top;\n",
       "    }\n",
       "\n",
       "    .dataframe thead th {\n",
       "        text-align: right;\n",
       "    }\n",
       "</style>\n",
       "<table border=\"1\" class=\"dataframe\">\n",
       "  <thead>\n",
       "    <tr style=\"text-align: right;\">\n",
       "      <th></th>\n",
       "      <th>evd</th>\n",
       "      <th>evd_ct</th>\n",
       "      <th>malaria</th>\n",
       "      <th>death</th>\n",
       "      <th>sex</th>\n",
       "      <th>age</th>\n",
       "      <th>quarantine</th>\n",
       "      <th>days_admitted</th>\n",
       "      <th>referral_time</th>\n",
       "      <th>date_admis</th>\n",
       "      <th>...</th>\n",
       "      <th>hemoptysis_after</th>\n",
       "      <th>hematochezia_after</th>\n",
       "      <th>hematuria_after</th>\n",
       "      <th>gyne_hemorrhage_after</th>\n",
       "      <th>num_hemorrhage_sites_after</th>\n",
       "      <th>dehydration_after</th>\n",
       "      <th>hepatomegaly_after</th>\n",
       "      <th>jaundice_after</th>\n",
       "      <th>edema_after</th>\n",
       "      <th>splenomegaly_after</th>\n",
       "    </tr>\n",
       "    <tr>\n",
       "      <th>study_id</th>\n",
       "      <th></th>\n",
       "      <th></th>\n",
       "      <th></th>\n",
       "      <th></th>\n",
       "      <th></th>\n",
       "      <th></th>\n",
       "      <th></th>\n",
       "      <th></th>\n",
       "      <th></th>\n",
       "      <th></th>\n",
       "      <th></th>\n",
       "      <th></th>\n",
       "      <th></th>\n",
       "      <th></th>\n",
       "      <th></th>\n",
       "      <th></th>\n",
       "      <th></th>\n",
       "      <th></th>\n",
       "      <th></th>\n",
       "      <th></th>\n",
       "      <th></th>\n",
       "    </tr>\n",
       "  </thead>\n",
       "  <tbody>\n",
       "  </tbody>\n",
       "</table>\n",
       "<p>0 rows × 66 columns</p>\n",
       "</div>"
      ],
      "text/plain": [
       "Empty DataFrame\n",
       "Columns: [evd, evd_ct, malaria, death, sex, age, quarantine, days_admitted, referral_time, date_admis, temp_triage, pyrexia_triage, anuria_triage, dyspnea_triage, disorientation_triage, headache_triage, hiccups_triage, myalgia_triage, rash_triage, dysphagia_triage, asthenia_triage, abdomnial_triage, anorexia_triage, diarrhea_triage, diarrhea_score_triage, vomiting_triage, hemorrhage_triage, orl_hemorrhage_triage, conjonctivitis_triage, hemoptysis_triage, hematochezia_triage, hematuria_triage, gynec_hemorrhage_triage, num_hemorrhages_triage, mult_hemorrhage_triage, dehydration_triage, hepatomegaly_triage, jaundice_triage, edema_triage, splenomegaly_triage, anuria_after, dyspnea_after, disorientation_after, headache_after, hiccups_after, myalgia_after, rash_after, dysphagia_after, asthenia_after, abdominal_after, anorexia_after, diarrhea_score_after, vomiting_after, hemorrhage_after, orl_hemorrhage_after, conjunctivitis_after, hemoptysis_after, hematochezia_after, hematuria_after, gyne_hemorrhage_after, num_hemorrhage_sites_after, dehydration_after, hepatomegaly_after, jaundice_after, edema_after, splenomegaly_after]\n",
       "Index: []\n",
       "\n",
       "[0 rows x 66 columns]"
      ]
     },
     "execution_count": 28,
     "metadata": {},
     "output_type": "execute_result"
    }
   ],
   "source": [
    "if 'study_id' in df.columns:\n",
    "    df.set_index('study_id', inplace=True)\n",
    "df.head(0) # DO NOT PUSH A COMMIT WHERE ANY LINE IS VISIBLE!"
   ]
  },
  {
   "cell_type": "code",
   "execution_count": 31,
   "metadata": {},
   "outputs": [
    {
     "name": "stdout",
     "output_type": "stream",
     "text": [
      "(575, 66)\n"
     ]
    },
    {
     "data": {
      "text/html": [
       "<div>\n",
       "<style scoped>\n",
       "    .dataframe tbody tr th:only-of-type {\n",
       "        vertical-align: middle;\n",
       "    }\n",
       "\n",
       "    .dataframe tbody tr th {\n",
       "        vertical-align: top;\n",
       "    }\n",
       "\n",
       "    .dataframe thead th {\n",
       "        text-align: right;\n",
       "    }\n",
       "</style>\n",
       "<table border=\"1\" class=\"dataframe\">\n",
       "  <thead>\n",
       "    <tr style=\"text-align: right;\">\n",
       "      <th></th>\n",
       "      <th>evd</th>\n",
       "      <th>evd_ct</th>\n",
       "      <th>malaria</th>\n",
       "      <th>death</th>\n",
       "      <th>sex</th>\n",
       "      <th>age</th>\n",
       "      <th>quarantine</th>\n",
       "      <th>days_admitted</th>\n",
       "      <th>referral_time</th>\n",
       "      <th>date_admis</th>\n",
       "      <th>...</th>\n",
       "      <th>hemoptysis_after</th>\n",
       "      <th>hematochezia_after</th>\n",
       "      <th>hematuria_after</th>\n",
       "      <th>gyne_hemorrhage_after</th>\n",
       "      <th>num_hemorrhage_sites_after</th>\n",
       "      <th>dehydration_after</th>\n",
       "      <th>hepatomegaly_after</th>\n",
       "      <th>jaundice_after</th>\n",
       "      <th>edema_after</th>\n",
       "      <th>splenomegaly_after</th>\n",
       "    </tr>\n",
       "  </thead>\n",
       "  <tbody>\n",
       "    <tr>\n",
       "      <td>0</td>\n",
       "      <td>False</td>\n",
       "      <td>True</td>\n",
       "      <td>True</td>\n",
       "      <td>False</td>\n",
       "      <td>False</td>\n",
       "      <td>False</td>\n",
       "      <td>True</td>\n",
       "      <td>False</td>\n",
       "      <td>True</td>\n",
       "      <td>False</td>\n",
       "      <td>...</td>\n",
       "      <td>False</td>\n",
       "      <td>False</td>\n",
       "      <td>False</td>\n",
       "      <td>False</td>\n",
       "      <td>False</td>\n",
       "      <td>False</td>\n",
       "      <td>False</td>\n",
       "      <td>False</td>\n",
       "      <td>False</td>\n",
       "      <td>False</td>\n",
       "    </tr>\n",
       "  </tbody>\n",
       "</table>\n",
       "<p>1 rows × 66 columns</p>\n",
       "</div>"
      ],
      "text/plain": [
       "     evd  evd_ct  malaria  death    sex    age  quarantine  days_admitted  \\\n",
       "0  False    True     True  False  False  False        True          False   \n",
       "\n",
       "   referral_time  date_admis  ...  hemoptysis_after  hematochezia_after  \\\n",
       "0           True       False  ...             False               False   \n",
       "\n",
       "   hematuria_after  gyne_hemorrhage_after  num_hemorrhage_sites_after  \\\n",
       "0            False                  False                       False   \n",
       "\n",
       "   dehydration_after  hepatomegaly_after  jaundice_after  edema_after  \\\n",
       "0              False               False           False        False   \n",
       "\n",
       "   splenomegaly_after  \n",
       "0               False  \n",
       "\n",
       "[1 rows x 66 columns]"
      ]
     },
     "execution_count": 31,
     "metadata": {},
     "output_type": "execute_result"
    }
   ],
   "source": [
    "print(df.shape)\n",
    "# Show which columns contain any NA values:\n",
    "df.isna().any().to_frame().T"
   ]
  },
  {
   "cell_type": "code",
   "execution_count": 41,
   "metadata": {},
   "outputs": [
    {
     "data": {
      "image/png": "[encoded data removed]",
      "text/plain": [
       "<Figure size 1080x504 with 1 Axes>"
      ]
     },
     "metadata": {
      "needs_background": "light"
     },
     "output_type": "display_data"
    }
   ],
   "source": [
    "# Many columns are categorical. Let's count the positives:\n",
    "df.sum().to_frame().plot(kind='bar', figsize=(15,7))\n",
    "plt.gca().set_ylim((0, len(df)))\n",
    "hline_limit = 75\n",
    "plt.gca().axhline(y=hline_limit, color='r')\n",
    "plt.gca().axhline(y=len(df) - hline_limit, color='r')\n",
    "plt.show()"
   ]
  },
  {
   "cell_type": "code",
   "execution_count": 4,
   "metadata": {},
   "outputs": [
    {
     "data": {
      "text/html": [
       "<div>\n",
       "<style scoped>\n",
       "    .dataframe tbody tr th:only-of-type {\n",
       "        vertical-align: middle;\n",
       "    }\n",
       "\n",
       "    .dataframe tbody tr th {\n",
       "        vertical-align: top;\n",
       "    }\n",
       "\n",
       "    .dataframe thead th {\n",
       "        text-align: right;\n",
       "    }\n",
       "</style>\n",
       "<table border=\"1\" class=\"dataframe\">\n",
       "  <thead>\n",
       "    <tr style=\"text-align: right;\">\n",
       "      <th></th>\n",
       "      <th>evd_ct</th>\n",
       "      <th>malaria</th>\n",
       "      <th>quarantine</th>\n",
       "      <th>referral_time</th>\n",
       "    </tr>\n",
       "  </thead>\n",
       "  <tbody>\n",
       "    <tr>\n",
       "      <td>0</td>\n",
       "      <td>431</td>\n",
       "      <td>32</td>\n",
       "      <td>24</td>\n",
       "      <td>87</td>\n",
       "    </tr>\n",
       "  </tbody>\n",
       "</table>\n",
       "</div>"
      ],
      "text/plain": [
       "   evd_ct  malaria  quarantine  referral_time\n",
       "0     431       32          24             87"
      ]
     },
     "execution_count": 4,
     "metadata": {},
     "output_type": "execute_result"
    }
   ],
   "source": [
    "df[df.columns[df.isna().any()]].isna().sum().to_frame().T"
   ]
  },
  {
   "cell_type": "code",
   "execution_count": 30,
   "metadata": {},
   "outputs": [
    {
     "name": "stdout",
     "output_type": "stream",
     "text": [
      "evd_ct is available for 144 of the 158 EVD+ patients.\n"
     ]
    }
   ],
   "source": [
    "print(\"evd_ct is available for {ct} of the {pos} EVD+ patients.\".format(\n",
    "        ct=len(df) - df['evd_ct'].isna().sum(),\n",
    "        pos=df['evd'].sum()\n",
    "))"
   ]
  },
  {
   "cell_type": "markdown",
   "metadata": {},
   "source": [
    "The first four columns are the most obvious targets (`evd`, `evd_ct`, `malaria` and `death`).\n",
    "The first three could be particularly useful in predicting `death`.\n",
    "\n",
    "It appears that every patient admitted to the ETC was tested for Ebola (column `evd`).\n",
    "`evd_ct` (inversely proportional to the viral load) is missing for all EVD- patients and for 14 EVD+ patients.\n",
    "Malaria test results are missing for 32 patients."
   ]
  },
  {
   "cell_type": "markdown",
   "metadata": {},
   "source": [
    "One possibility for dealing with values missing not completely at random for continuous or ordered features, at least for ridge or logistic regression:\n",
    "\n",
    "1. Standardize the features if you're going to use regularization (and why wouldn't you)\n",
    "2. Add a one-hot encoded feature \"feature_XY_is_na\" (this feature should be non-zero when the other feature _is_ missing).\n",
    "3. Replace the na values by 0.\n",
    "\n",
    "Result: one weight learns what to contribute to the model when the feature is na, and another learns what to do when it is available. This could, for instance, result in different intercepts for people with vs without missing value, which makes sense if the values are missing for some systematic reason. It's kind of a backwards logic of \"if the Doctor didn't deem it useful to perform this test, that's probably because the person was fine\" or something.\n",
    "\n",
    "Main downside: If the number of missing values is low, "
   ]
  },
  {
   "cell_type": "code",
   "execution_count": null,
   "metadata": {},
   "outputs": [],
   "source": [
    "df_std = "
   ]
  }
 ],
 "metadata": {
  "kernelspec": {
   "display_name": "Python 3",
   "language": "python",
   "name": "python3"
  },
  "language_info": {
   "codemirror_mode": {
    "name": "ipython",
    "version": 3
   },
   "file_extension": ".py",
   "mimetype": "text/x-python",
   "name": "python",
   "nbconvert_exporter": "python",
   "pygments_lexer": "ipython3",
   "version": "3.7.4"
  }
 },
 "nbformat": 4,
 "nbformat_minor": 4
}
