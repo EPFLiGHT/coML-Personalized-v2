{
 "cells": [
  {
   "cell_type": "markdown",
   "metadata": {},
   "source": [
    "## Document dependencies\n",
    "Skip this section. To document the dependencies, execute the following cells after executing all relevant import statements."
   ]
  },
  {
   "cell_type": "code",
   "execution_count": null,
   "metadata": {},
   "outputs": [],
   "source": [
    "!pip install --user watermark"
   ]
  },
  {
   "cell_type": "code",
   "execution_count": 3,
   "metadata": {},
   "outputs": [
    {
     "name": "stdout",
     "output_type": "stream",
     "text": [
      "\n",
      "CPython 3.7.4\n",
      "IPython 7.8.0\n",
      "\n",
      "numpy  1.18.5\n",
      "pandas 0.25.1\n",
      "\n"
     ]
    }
   ],
   "source": [
    "%load_ext watermark\n",
    "print()\n",
    "%watermark -v\n",
    "print()\n",
    "%watermark -iv"
   ]
  },
  {
   "cell_type": "markdown",
   "metadata": {},
   "source": [
    "## Import packages"
   ]
  },
  {
   "cell_type": "code",
   "execution_count": 1,
   "metadata": {},
   "outputs": [],
   "source": [
    "import pandas as pd\n",
    "import matplotlib.pyplot as plt\n",
    "import numpy as np"
   ]
  },
  {
   "cell_type": "markdown",
   "metadata": {},
   "source": [
    "# Pre-processing\n",
    "\n",
    "This notebook contains the pre-processing of Annie's EbolaDatabase for the purposes of the semester project. These purposes are:\n",
    "- To replicate some of the prediction models described in her 2017 papers, in the centralized as well as various simulated distributed ML settings.\n",
    "- To define other models, if they can be useful to benchmark model personalisation / data selection schemes.\n",
    "\n",
    "# 1. Read the raw EbolaDatabase"
   ]
  },
  {
   "cell_type": "code",
   "execution_count": 2,
   "metadata": {},
   "outputs": [],
   "source": [
    "df = pd.read_csv(\"../data/private/0_raw_EbolaDatabase.csv\")\n",
    "df_in = df.copy()"
   ]
  },
  {
   "cell_type": "markdown",
   "metadata": {},
   "source": [
    "Let me show you something: **study_id 125 is missing**. That's not really problematic, but _do not_ use `study_id` as index!"
   ]
  },
  {
   "cell_type": "code",
   "execution_count": 3,
   "metadata": {},
   "outputs": [
    {
     "data": {
      "text/plain": [
       "123    124\n",
       "124    126\n",
       "125    127\n",
       "126    128\n",
       "127    129\n",
       "Name: study_id, dtype: int64"
      ]
     },
     "execution_count": 3,
     "metadata": {},
     "output_type": "execute_result"
    }
   ],
   "source": [
    "df_in.study_id[123:128]"
   ]
  },
  {
   "cell_type": "code",
   "execution_count": 4,
   "metadata": {},
   "outputs": [
    {
     "data": {
      "text/html": [
       "<div>\n",
       "<style scoped>\n",
       "    .dataframe tbody tr th:only-of-type {\n",
       "        vertical-align: middle;\n",
       "    }\n",
       "\n",
       "    .dataframe tbody tr th {\n",
       "        vertical-align: top;\n",
       "    }\n",
       "\n",
       "    .dataframe thead th {\n",
       "        text-align: right;\n",
       "    }\n",
       "</style>\n",
       "<table border=\"1\" class=\"dataframe\">\n",
       "  <thead>\n",
       "    <tr style=\"text-align: right;\">\n",
       "      <th></th>\n",
       "      <th>study_id</th>\n",
       "      <th>evd</th>\n",
       "      <th>evd_ct</th>\n",
       "      <th>malaria</th>\n",
       "      <th>death</th>\n",
       "      <th>sex</th>\n",
       "      <th>age</th>\n",
       "      <th>quarantine</th>\n",
       "      <th>days_admitted</th>\n",
       "      <th>referral_time</th>\n",
       "      <th>date_admis</th>\n",
       "      <th>temp_triage</th>\n",
       "      <th>pyrexia_triage</th>\n",
       "      <th>anuria_triage</th>\n",
       "      <th>dyspnea_triage</th>\n",
       "      <th>disorientation_triage</th>\n",
       "      <th>headache_triage</th>\n",
       "      <th>hiccups_triage</th>\n",
       "      <th>myalgia_triage</th>\n",
       "      <th>rash_triage</th>\n",
       "    </tr>\n",
       "  </thead>\n",
       "  <tbody>\n",
       "  </tbody>\n",
       "</table>\n",
       "</div>"
      ],
      "text/plain": [
       "Empty DataFrame\n",
       "Columns: [study_id, evd, evd_ct, malaria, death, sex, age, quarantine, days_admitted, referral_time, date_admis, temp_triage, pyrexia_triage, anuria_triage, dyspnea_triage, disorientation_triage, headache_triage, hiccups_triage, myalgia_triage, rash_triage]\n",
       "Index: []"
      ]
     },
     "execution_count": 4,
     "metadata": {},
     "output_type": "execute_result"
    }
   ],
   "source": [
    "df.iloc[:0, :20] # DO NOT PUSH A COMMIT WHERE ANY LINE IS VISIBLE!"
   ]
  },
  {
   "cell_type": "markdown",
   "metadata": {},
   "source": [
    "# 2. Missing values\n",
    "\n",
    "Missing values must be dealt with, in one way or another, for all features that will be used in machine learning models."
   ]
  },
  {
   "cell_type": "code",
   "execution_count": 5,
   "metadata": {},
   "outputs": [
    {
     "name": "stdout",
     "output_type": "stream",
     "text": [
      "(575, 67)\n"
     ]
    },
    {
     "data": {
      "text/html": [
       "<div>\n",
       "<style scoped>\n",
       "    .dataframe tbody tr th:only-of-type {\n",
       "        vertical-align: middle;\n",
       "    }\n",
       "\n",
       "    .dataframe tbody tr th {\n",
       "        vertical-align: top;\n",
       "    }\n",
       "\n",
       "    .dataframe thead th {\n",
       "        text-align: right;\n",
       "    }\n",
       "</style>\n",
       "<table border=\"1\" class=\"dataframe\">\n",
       "  <thead>\n",
       "    <tr style=\"text-align: right;\">\n",
       "      <th></th>\n",
       "      <th>study_id</th>\n",
       "      <th>evd</th>\n",
       "      <th>evd_ct</th>\n",
       "      <th>malaria</th>\n",
       "      <th>death</th>\n",
       "      <th>sex</th>\n",
       "      <th>age</th>\n",
       "      <th>quarantine</th>\n",
       "      <th>days_admitted</th>\n",
       "      <th>referral_time</th>\n",
       "      <th>...</th>\n",
       "      <th>hemoptysis_after</th>\n",
       "      <th>hematochezia_after</th>\n",
       "      <th>hematuria_after</th>\n",
       "      <th>gyne_hemorrhage_after</th>\n",
       "      <th>num_hemorrhage_sites_after</th>\n",
       "      <th>dehydration_after</th>\n",
       "      <th>hepatomegaly_after</th>\n",
       "      <th>jaundice_after</th>\n",
       "      <th>edema_after</th>\n",
       "      <th>splenomegaly_after</th>\n",
       "    </tr>\n",
       "  </thead>\n",
       "  <tbody>\n",
       "    <tr>\n",
       "      <td>0</td>\n",
       "      <td>False</td>\n",
       "      <td>False</td>\n",
       "      <td>True</td>\n",
       "      <td>True</td>\n",
       "      <td>False</td>\n",
       "      <td>False</td>\n",
       "      <td>False</td>\n",
       "      <td>True</td>\n",
       "      <td>False</td>\n",
       "      <td>True</td>\n",
       "      <td>...</td>\n",
       "      <td>False</td>\n",
       "      <td>False</td>\n",
       "      <td>False</td>\n",
       "      <td>False</td>\n",
       "      <td>False</td>\n",
       "      <td>False</td>\n",
       "      <td>False</td>\n",
       "      <td>False</td>\n",
       "      <td>False</td>\n",
       "      <td>False</td>\n",
       "    </tr>\n",
       "  </tbody>\n",
       "</table>\n",
       "<p>1 rows × 67 columns</p>\n",
       "</div>"
      ],
      "text/plain": [
       "   study_id    evd  evd_ct  malaria  death    sex    age  quarantine  \\\n",
       "0     False  False    True     True  False  False  False        True   \n",
       "\n",
       "   days_admitted  referral_time  ...  hemoptysis_after  hematochezia_after  \\\n",
       "0          False           True  ...             False               False   \n",
       "\n",
       "   hematuria_after  gyne_hemorrhage_after  num_hemorrhage_sites_after  \\\n",
       "0            False                  False                       False   \n",
       "\n",
       "   dehydration_after  hepatomegaly_after  jaundice_after  edema_after  \\\n",
       "0              False               False           False        False   \n",
       "\n",
       "   splenomegaly_after  \n",
       "0               False  \n",
       "\n",
       "[1 rows x 67 columns]"
      ]
     },
     "execution_count": 5,
     "metadata": {},
     "output_type": "execute_result"
    }
   ],
   "source": [
    "print(df.shape)\n",
    "# Show which columns contain any NA values:\n",
    "df.isna().any().to_frame().T"
   ]
  },
  {
   "cell_type": "code",
   "execution_count": 6,
   "metadata": {},
   "outputs": [
    {
     "data": {
      "text/plain": [
       "Index(['study_id', 'evd', 'evd_ct', 'malaria', 'death', 'sex', 'age',\n",
       "       'quarantine', 'days_admitted', 'referral_time', 'date_admis',\n",
       "       'temp_triage', 'pyrexia_triage', 'anuria_triage', 'dyspnea_triage',\n",
       "       'disorientation_triage', 'headache_triage', 'hiccups_triage',\n",
       "       'myalgia_triage', 'rash_triage', 'dysphagia_triage', 'asthenia_triage',\n",
       "       'abdomnial_triage', 'anorexia_triage', 'diarrhea_triage',\n",
       "       'diarrhea_score_triage', 'vomiting_triage', 'hemorrhage_triage',\n",
       "       'orl_hemorrhage_triage', 'conjonctivitis_triage', 'hemoptysis_triage',\n",
       "       'hematochezia_triage', 'hematuria_triage', 'gynec_hemorrhage_triage',\n",
       "       'num_hemorrhages_triage', 'mult_hemorrhage_triage',\n",
       "       'dehydration_triage', 'hepatomegaly_triage', 'jaundice_triage',\n",
       "       'edema_triage', 'splenomegaly_triage', 'anuria_after', 'dyspnea_after',\n",
       "       'disorientation_after', 'headache_after', 'hiccups_after',\n",
       "       'myalgia_after', 'rash_after', 'dysphagia_after', 'asthenia_after',\n",
       "       'abdominal_after', 'anorexia_after', 'diarrhea_score_after',\n",
       "       'vomiting_after', 'hemorrhage_after', 'orl_hemorrhage_after',\n",
       "       'conjunctivitis_after', 'hemoptysis_after', 'hematochezia_after',\n",
       "       'hematuria_after', 'gyne_hemorrhage_after',\n",
       "       'num_hemorrhage_sites_after', 'dehydration_after', 'hepatomegaly_after',\n",
       "       'jaundice_after', 'edema_after', 'splenomegaly_after'],\n",
       "      dtype='object')"
      ]
     },
     "execution_count": 6,
     "metadata": {},
     "output_type": "execute_result"
    }
   ],
   "source": [
    "df.columns"
   ]
  },
  {
   "cell_type": "code",
   "execution_count": 7,
   "metadata": {},
   "outputs": [
    {
     "data": {
      "text/html": [
       "<div>\n",
       "<style scoped>\n",
       "    .dataframe tbody tr th:only-of-type {\n",
       "        vertical-align: middle;\n",
       "    }\n",
       "\n",
       "    .dataframe tbody tr th {\n",
       "        vertical-align: top;\n",
       "    }\n",
       "\n",
       "    .dataframe thead th {\n",
       "        text-align: right;\n",
       "    }\n",
       "</style>\n",
       "<table border=\"1\" class=\"dataframe\">\n",
       "  <thead>\n",
       "    <tr style=\"text-align: right;\">\n",
       "      <th></th>\n",
       "      <th>evd_ct</th>\n",
       "      <th>malaria</th>\n",
       "      <th>quarantine</th>\n",
       "      <th>referral_time</th>\n",
       "    </tr>\n",
       "  </thead>\n",
       "  <tbody>\n",
       "    <tr>\n",
       "      <td>0</td>\n",
       "      <td>431</td>\n",
       "      <td>32</td>\n",
       "      <td>24</td>\n",
       "      <td>87</td>\n",
       "    </tr>\n",
       "  </tbody>\n",
       "</table>\n",
       "</div>"
      ],
      "text/plain": [
       "   evd_ct  malaria  quarantine  referral_time\n",
       "0     431       32          24             87"
      ]
     },
     "execution_count": 7,
     "metadata": {},
     "output_type": "execute_result"
    }
   ],
   "source": [
    "df[df.columns[df.isna().any()]].isna().sum().to_frame().T"
   ]
  },
  {
   "cell_type": "code",
   "execution_count": 8,
   "metadata": {},
   "outputs": [
    {
     "name": "stdout",
     "output_type": "stream",
     "text": [
      "evd_ct is available for 144 of the 158 EVD+ patients.\n"
     ]
    }
   ],
   "source": [
    "print(\"evd_ct is available for {ct} of the {pos} EVD+ patients.\".format(\n",
    "        ct=len(df) - df['evd_ct'].isna().sum(),\n",
    "        pos=df['evd'].sum()\n",
    "))"
   ]
  },
  {
   "cell_type": "markdown",
   "metadata": {},
   "source": [
    "The first four columns are the most obvious targets (`evd`, `evd_ct`, `malaria` and `death`).\n",
    "The first three could be particularly useful in predicting `death`.\n",
    "\n",
    "Every patient admitted to the ETC was tested for Ebola (column `evd`).\n",
    "`evd_ct` (inversely proportional to the viral load) is missing for all EVD- patients and for 14 EVD+ patients.\n",
    "Malaria test results are missing for 32 patients."
   ]
  },
  {
   "cell_type": "markdown",
   "metadata": {},
   "source": [
    "## 2.1. Referral time"
   ]
  },
  {
   "cell_type": "markdown",
   "metadata": {},
   "source": [
    "Annie's paper mentions 20 missing values for the referral time, which were tested to be likely missing completely at random (MCAR).\n",
    "She transforms this into the binary variable $\\mathbb{1}\\left\\{ x \\in [4, 9] \\right\\}$ ($x \\triangleq$ referral time in days).\n",
    "Let's plot the proportion of EVD(+) as a function of referral time, along with confidence intervals (a Wilson score interval obtained by assuming that the EVD diagnosis follows a Bernoulli distribution whose probability depends on the referral time)."
   ]
  },
  {
   "cell_type": "code",
   "execution_count": 9,
   "metadata": {},
   "outputs": [
    {
     "data": {
      "text/html": [
       "<div>\n",
       "<style scoped>\n",
       "    .dataframe tbody tr th:only-of-type {\n",
       "        vertical-align: middle;\n",
       "    }\n",
       "\n",
       "    .dataframe tbody tr th {\n",
       "        vertical-align: top;\n",
       "    }\n",
       "\n",
       "    .dataframe thead th {\n",
       "        text-align: right;\n",
       "    }\n",
       "</style>\n",
       "<table border=\"1\" class=\"dataframe\">\n",
       "  <thead>\n",
       "    <tr style=\"text-align: right;\">\n",
       "      <th></th>\n",
       "      <th>evd</th>\n",
       "      <th>referral_time</th>\n",
       "      <th>total</th>\n",
       "    </tr>\n",
       "  </thead>\n",
       "  <tbody>\n",
       "    <tr>\n",
       "      <td>0</td>\n",
       "      <td>1</td>\n",
       "      <td>12</td>\n",
       "      <td>1</td>\n",
       "    </tr>\n",
       "    <tr>\n",
       "      <td>1</td>\n",
       "      <td>1</td>\n",
       "      <td>n</td>\n",
       "      <td>1</td>\n",
       "    </tr>\n",
       "    <tr>\n",
       "      <td>2</td>\n",
       "      <td>1</td>\n",
       "      <td>06</td>\n",
       "      <td>1</td>\n",
       "    </tr>\n",
       "    <tr>\n",
       "      <td>3</td>\n",
       "      <td>1</td>\n",
       "      <td>01</td>\n",
       "      <td>1</td>\n",
       "    </tr>\n",
       "    <tr>\n",
       "      <td>4</td>\n",
       "      <td>1</td>\n",
       "      <td>n</td>\n",
       "      <td>1</td>\n",
       "    </tr>\n",
       "  </tbody>\n",
       "</table>\n",
       "</div>"
      ],
      "text/plain": [
       "   evd referral_time  total\n",
       "0    1            12      1\n",
       "1    1             n      1\n",
       "2    1            06      1\n",
       "3    1            01      1\n",
       "4    1             n      1"
      ]
     },
     "execution_count": 9,
     "metadata": {},
     "output_type": "execute_result"
    }
   ],
   "source": [
    "df_ref = df['evd'].to_frame()\n",
    "df_ref['referral_time'] = df['referral_time'].astype(str).apply(\n",
    "        lambda s: s[:-2] if ('na' in s.lower() or len(s)==4) else '0'+s[:-2]\n",
    ")\n",
    "df_ref['total'] = 1\n",
    "df_ref.head()"
   ]
  },
  {
   "cell_type": "code",
   "execution_count": 10,
   "metadata": {},
   "outputs": [
    {
     "data": {
      "text/plain": [
       "Text(0, 0.5, 'number of patients')"
      ]
     },
     "execution_count": 10,
     "metadata": {},
     "output_type": "execute_result"
    },
    {
     "data": {
      "image/png": "[encoded data removed]",
      "text/plain": [
       "<Figure size 864x432 with 1 Axes>"
      ]
     },
     "metadata": {
      "needs_background": "light"
     },
     "output_type": "display_data"
    }
   ],
   "source": [
    "df_ref = df_ref.groupby('referral_time').sum()\n",
    "df_ref.plot(y='total', xticks=range(len(df_ref)), figsize=(12,6), grid=True, ylim=(0,100), yticks=[0,1]+list(range(10,101, 10)), title='Histogram of referral times')\n",
    "plt.ylabel(\"number of patients\")"
   ]
  },
  {
   "cell_type": "markdown",
   "metadata": {},
   "source": [
    "On second thought, these intervals (and also the proportion of EVD(+) patients in each `referral_time` category) will be near meaningless, considering the small number of samples per category.\n",
    "Instead, we follow Annie in replacing the referral_time by a binary variable (cf. previous Markdown cell).\n",
    "In this new binary feature, we replace `NaN`s by the proportion of `1`s among available values.\n",
    "With this, the feature is no longer truly binary, but can instead be interpreted as an a-priori probability of having a referral time in between 4 and 9 days.\n",
    "This probability is exactly 1 or 0 for all patients whose referral time is known."
   ]
  },
  {
   "cell_type": "code",
   "execution_count": 11,
   "metadata": {},
   "outputs": [
    {
     "data": {
      "text/plain": [
       "array([  1,   4,   9,  16,  52,  75,  81,  83,  93,  98, 102, 125, 132,\n",
       "       133, 138, 141, 143, 144, 150, 151, 152, 154, 156, 167, 168, 172,\n",
       "       183, 192, 211, 217, 218, 233, 236, 237, 238, 244, 245, 247, 248,\n",
       "       253, 278, 279, 290, 300, 301, 307, 311, 317, 322, 327, 335, 336,\n",
       "       355, 357, 360, 363, 368, 395, 396, 398, 399, 402, 410, 411, 412,\n",
       "       416, 421, 435, 441, 449, 451, 453, 454, 460, 464, 478, 483, 485,\n",
       "       487, 492, 502, 515, 518, 524, 542, 545, 561])"
      ]
     },
     "execution_count": 11,
     "metadata": {},
     "output_type": "execute_result"
    }
   ],
   "source": [
    "df['referral(4-9)'] = ((df['referral_time'] <= 9) & (df['referral_time'] >= 4)).astype(np.float32)\n",
    "np.where(np.isnan(df['referral_time']))[0]"
   ]
  },
  {
   "cell_type": "code",
   "execution_count": 12,
   "metadata": {},
   "outputs": [
    {
     "data": {
      "text/html": [
       "<div>\n",
       "<style scoped>\n",
       "    .dataframe tbody tr th:only-of-type {\n",
       "        vertical-align: middle;\n",
       "    }\n",
       "\n",
       "    .dataframe tbody tr th {\n",
       "        vertical-align: top;\n",
       "    }\n",
       "\n",
       "    .dataframe thead th {\n",
       "        text-align: right;\n",
       "    }\n",
       "</style>\n",
       "<table border=\"1\" class=\"dataframe\">\n",
       "  <thead>\n",
       "    <tr style=\"text-align: right;\">\n",
       "      <th></th>\n",
       "      <th>122</th>\n",
       "      <th>123</th>\n",
       "      <th>124</th>\n",
       "      <th>125</th>\n",
       "      <th>126</th>\n",
       "      <th>127</th>\n",
       "      <th>128</th>\n",
       "      <th>129</th>\n",
       "      <th>130</th>\n",
       "      <th>131</th>\n",
       "      <th>132</th>\n",
       "      <th>133</th>\n",
       "    </tr>\n",
       "  </thead>\n",
       "  <tbody>\n",
       "    <tr>\n",
       "      <td>study_id</td>\n",
       "      <td>123.0</td>\n",
       "      <td>124.0</td>\n",
       "      <td>126.0</td>\n",
       "      <td>127.0</td>\n",
       "      <td>128.0</td>\n",
       "      <td>129.0</td>\n",
       "      <td>130.0</td>\n",
       "      <td>131.0</td>\n",
       "      <td>132.0</td>\n",
       "      <td>133.0</td>\n",
       "      <td>134.0</td>\n",
       "      <td>135.0</td>\n",
       "    </tr>\n",
       "    <tr>\n",
       "      <td>referral_time</td>\n",
       "      <td>5.0</td>\n",
       "      <td>5.0</td>\n",
       "      <td>6.0</td>\n",
       "      <td>NaN</td>\n",
       "      <td>3.0</td>\n",
       "      <td>1.0</td>\n",
       "      <td>6.0</td>\n",
       "      <td>3.0</td>\n",
       "      <td>5.0</td>\n",
       "      <td>4.0</td>\n",
       "      <td>NaN</td>\n",
       "      <td>NaN</td>\n",
       "    </tr>\n",
       "    <tr>\n",
       "      <td>referral(4-9)</td>\n",
       "      <td>1.0</td>\n",
       "      <td>1.0</td>\n",
       "      <td>1.0</td>\n",
       "      <td>NaN</td>\n",
       "      <td>0.0</td>\n",
       "      <td>0.0</td>\n",
       "      <td>1.0</td>\n",
       "      <td>0.0</td>\n",
       "      <td>1.0</td>\n",
       "      <td>1.0</td>\n",
       "      <td>NaN</td>\n",
       "      <td>NaN</td>\n",
       "    </tr>\n",
       "  </tbody>\n",
       "</table>\n",
       "</div>"
      ],
      "text/plain": [
       "                 122    123    124    125    126    127    128    129    130  \\\n",
       "study_id       123.0  124.0  126.0  127.0  128.0  129.0  130.0  131.0  132.0   \n",
       "referral_time    5.0    5.0    6.0    NaN    3.0    1.0    6.0    3.0    5.0   \n",
       "referral(4-9)    1.0    1.0    1.0    NaN    0.0    0.0    1.0    0.0    1.0   \n",
       "\n",
       "                 131    132    133  \n",
       "study_id       133.0  134.0  135.0  \n",
       "referral_time    4.0    NaN    NaN  \n",
       "referral(4-9)    1.0    NaN    NaN  "
      ]
     },
     "execution_count": 12,
     "metadata": {},
     "output_type": "execute_result"
    }
   ],
   "source": [
    "df.loc[ np.where(np.isnan(df['referral_time']))[0] , 'referral(4-9)'] = float('NaN')\n",
    "df.loc[122:133, [ 'study_id', 'referral_time', 'referral(4-9)']].T"
   ]
  },
  {
   "cell_type": "code",
   "execution_count": 13,
   "metadata": {},
   "outputs": [
    {
     "name": "stdout",
     "output_type": "stream",
     "text": [
      "False\n"
     ]
    },
    {
     "data": {
      "text/html": [
       "<div>\n",
       "<style scoped>\n",
       "    .dataframe tbody tr th:only-of-type {\n",
       "        vertical-align: middle;\n",
       "    }\n",
       "\n",
       "    .dataframe tbody tr th {\n",
       "        vertical-align: top;\n",
       "    }\n",
       "\n",
       "    .dataframe thead th {\n",
       "        text-align: right;\n",
       "    }\n",
       "</style>\n",
       "<table border=\"1\" class=\"dataframe\">\n",
       "  <thead>\n",
       "    <tr style=\"text-align: right;\">\n",
       "      <th></th>\n",
       "      <th>122</th>\n",
       "      <th>123</th>\n",
       "      <th>124</th>\n",
       "      <th>125</th>\n",
       "      <th>126</th>\n",
       "      <th>127</th>\n",
       "      <th>128</th>\n",
       "      <th>129</th>\n",
       "      <th>130</th>\n",
       "      <th>131</th>\n",
       "      <th>132</th>\n",
       "      <th>133</th>\n",
       "    </tr>\n",
       "  </thead>\n",
       "  <tbody>\n",
       "    <tr>\n",
       "      <td>study_id</td>\n",
       "      <td>123.0</td>\n",
       "      <td>124.0</td>\n",
       "      <td>126.0</td>\n",
       "      <td>127.000000</td>\n",
       "      <td>128.0</td>\n",
       "      <td>129.0</td>\n",
       "      <td>130.0</td>\n",
       "      <td>131.0</td>\n",
       "      <td>132.0</td>\n",
       "      <td>133.0</td>\n",
       "      <td>134.000000</td>\n",
       "      <td>135.000000</td>\n",
       "    </tr>\n",
       "    <tr>\n",
       "      <td>referral_time</td>\n",
       "      <td>5.0</td>\n",
       "      <td>5.0</td>\n",
       "      <td>6.0</td>\n",
       "      <td>NaN</td>\n",
       "      <td>3.0</td>\n",
       "      <td>1.0</td>\n",
       "      <td>6.0</td>\n",
       "      <td>3.0</td>\n",
       "      <td>5.0</td>\n",
       "      <td>4.0</td>\n",
       "      <td>NaN</td>\n",
       "      <td>NaN</td>\n",
       "    </tr>\n",
       "    <tr>\n",
       "      <td>referral(4-9)</td>\n",
       "      <td>1.0</td>\n",
       "      <td>1.0</td>\n",
       "      <td>1.0</td>\n",
       "      <td>0.364754</td>\n",
       "      <td>0.0</td>\n",
       "      <td>0.0</td>\n",
       "      <td>1.0</td>\n",
       "      <td>0.0</td>\n",
       "      <td>1.0</td>\n",
       "      <td>1.0</td>\n",
       "      <td>0.364754</td>\n",
       "      <td>0.364754</td>\n",
       "    </tr>\n",
       "  </tbody>\n",
       "</table>\n",
       "</div>"
      ],
      "text/plain": [
       "                 122    123    124         125    126    127    128    129  \\\n",
       "study_id       123.0  124.0  126.0  127.000000  128.0  129.0  130.0  131.0   \n",
       "referral_time    5.0    5.0    6.0         NaN    3.0    1.0    6.0    3.0   \n",
       "referral(4-9)    1.0    1.0    1.0    0.364754    0.0    0.0    1.0    0.0   \n",
       "\n",
       "                 130    131         132         133  \n",
       "study_id       132.0  133.0  134.000000  135.000000  \n",
       "referral_time    5.0    4.0         NaN         NaN  \n",
       "referral(4-9)    1.0    1.0    0.364754    0.364754  "
      ]
     },
     "execution_count": 13,
     "metadata": {},
     "output_type": "execute_result"
    }
   ],
   "source": [
    "df.loc[ np.where(np.isnan(df['referral_time']))[0] , 'referral(4-9)'] = df['referral(4-9)'].mean()\n",
    "print(df['referral(4-9)'].isna().any())\n",
    "df.loc[122:133, [ 'study_id', 'referral_time', 'referral(4-9)']].T"
   ]
  },
  {
   "cell_type": "markdown",
   "metadata": {},
   "source": [
    "## 2.2. Quarantine\n",
    "\n",
    "The single most useful feature in the predictive models described in Annie's papers is whether or not the patient had had contact with a confirmed EVD patient.\n",
    "All those known to have had contact with confirmed EVD patients, underwent a quarantine (often together in groups).\n",
    "Thus, the `quarantine` column can be interpreted as \"We know that this patient has had contact with a confirmed EVD patient\".\n",
    "\n",
    "Unfortunately, 24 patients do not have an entry in this column.\n",
    "In principle, this means _we do not know whether this patient has had contact with a confirmed EVD patient_.\n",
    "What we do with these missing values largely depends on how the data for this feature was gathered.\n",
    "\n",
    "Below, we perform a visual inspection of how the missing values are distributed:\n",
    "<!-- Even if the values are missing completely at random, the best way to fill missing values depends on which scenario we would rather believe:\n",
    "- Of course, if the values are not missing completely at random, it might be useful to include a binary feature for whether or not the `quarantine` value is missing.\n",
    "- Else, if we believe that nearly all individuals who have had contact with a confirmed EVD patient really underwent quarantine, then missing values should be replaced by the column mean.\n",
    "- If, on the contrary, we believe that many (say, more than half) of the patients who have had contact with a confirmed EVD patient, are never found -->"
   ]
  },
  {
   "cell_type": "code",
   "execution_count": 14,
   "metadata": {},
   "outputs": [
    {
     "name": "stdout",
     "output_type": "stream",
     "text": [
      "24\n"
     ]
    },
    {
     "data": {
      "text/html": [
       "<div>\n",
       "<style scoped>\n",
       "    .dataframe tbody tr th:only-of-type {\n",
       "        vertical-align: middle;\n",
       "    }\n",
       "\n",
       "    .dataframe tbody tr th {\n",
       "        vertical-align: top;\n",
       "    }\n",
       "\n",
       "    .dataframe thead th {\n",
       "        text-align: right;\n",
       "    }\n",
       "</style>\n",
       "<table border=\"1\" class=\"dataframe\">\n",
       "  <thead>\n",
       "    <tr style=\"text-align: right;\">\n",
       "      <th></th>\n",
       "      <th>study_id</th>\n",
       "      <th>evd</th>\n",
       "      <th>evd_ct</th>\n",
       "      <th>malaria</th>\n",
       "      <th>death</th>\n",
       "      <th>sex</th>\n",
       "      <th>age</th>\n",
       "      <th>quarantine</th>\n",
       "      <th>days_admitted</th>\n",
       "      <th>referral_time</th>\n",
       "      <th>...</th>\n",
       "      <th>hematochezia_after</th>\n",
       "      <th>hematuria_after</th>\n",
       "      <th>gyne_hemorrhage_after</th>\n",
       "      <th>num_hemorrhage_sites_after</th>\n",
       "      <th>dehydration_after</th>\n",
       "      <th>hepatomegaly_after</th>\n",
       "      <th>jaundice_after</th>\n",
       "      <th>edema_after</th>\n",
       "      <th>splenomegaly_after</th>\n",
       "      <th>referral(4-9)</th>\n",
       "    </tr>\n",
       "  </thead>\n",
       "  <tbody>\n",
       "  </tbody>\n",
       "</table>\n",
       "<p>0 rows × 68 columns</p>\n",
       "</div>"
      ],
      "text/plain": [
       "Empty DataFrame\n",
       "Columns: [study_id, evd, evd_ct, malaria, death, sex, age, quarantine, days_admitted, referral_time, date_admis, temp_triage, pyrexia_triage, anuria_triage, dyspnea_triage, disorientation_triage, headache_triage, hiccups_triage, myalgia_triage, rash_triage, dysphagia_triage, asthenia_triage, abdomnial_triage, anorexia_triage, diarrhea_triage, diarrhea_score_triage, vomiting_triage, hemorrhage_triage, orl_hemorrhage_triage, conjonctivitis_triage, hemoptysis_triage, hematochezia_triage, hematuria_triage, gynec_hemorrhage_triage, num_hemorrhages_triage, mult_hemorrhage_triage, dehydration_triage, hepatomegaly_triage, jaundice_triage, edema_triage, splenomegaly_triage, anuria_after, dyspnea_after, disorientation_after, headache_after, hiccups_after, myalgia_after, rash_after, dysphagia_after, asthenia_after, abdominal_after, anorexia_after, diarrhea_score_after, vomiting_after, hemorrhage_after, orl_hemorrhage_after, conjunctivitis_after, hemoptysis_after, hematochezia_after, hematuria_after, gyne_hemorrhage_after, num_hemorrhage_sites_after, dehydration_after, hepatomegaly_after, jaundice_after, edema_after, splenomegaly_after, referral(4-9)]\n",
       "Index: []\n",
       "\n",
       "[0 rows x 68 columns]"
      ]
     },
     "execution_count": 14,
     "metadata": {},
     "output_type": "execute_result"
    }
   ],
   "source": [
    "df_quarantine_missing = df.iloc[ np.where(np.isnan(df['quarantine']))[0] , :].copy()\n",
    "print(len(df_quarantine_missing))\n",
    "df_quarantine_missing.head(0) # DO NOT PUSH A COMMIT WHERE ANY LINE IS VISIBLE!"
   ]
  },
  {
   "cell_type": "code",
   "execution_count": 15,
   "metadata": {},
   "outputs": [
    {
     "name": "stdout",
     "output_type": "stream",
     "text": [
      "415\n"
     ]
    },
    {
     "data": {
      "text/plain": [
       "0.0"
      ]
     },
     "execution_count": 15,
     "metadata": {},
     "output_type": "execute_result"
    }
   ],
   "source": [
    "df_quarantine_0 = df.loc[ df['quarantine'] == 0 , :].copy()\n",
    "print(len(df_quarantine_0))\n",
    "df_quarantine_0.quarantine.max()"
   ]
  },
  {
   "cell_type": "code",
   "execution_count": 16,
   "metadata": {},
   "outputs": [
    {
     "name": "stdout",
     "output_type": "stream",
     "text": [
      "136\n"
     ]
    },
    {
     "data": {
      "text/plain": [
       "1.0"
      ]
     },
     "execution_count": 16,
     "metadata": {},
     "output_type": "execute_result"
    }
   ],
   "source": [
    "df_quarantine_1 = df.loc[ df['quarantine'] == 1 , :].copy()\n",
    "print(len(df_quarantine_1))\n",
    "df_quarantine_1.quarantine.min()"
   ]
  },
  {
   "cell_type": "code",
   "execution_count": 17,
   "metadata": {},
   "outputs": [],
   "source": [
    "non_binary_features = {'study_id', 'evd_ct', 'age', 'days_admitted', 'referral_time', 'date_admis', 'temp_triage', 'num_hemorrhages_triage', 'num_hemorrhage_sites_after'}\n",
    "\n",
    "def compare_means(dfs, labels):\n",
    "    dfs_binary = [df.drop(labels=non_binary_features.intersection(df.columns), axis=1) for df in dfs]\n",
    "    \n",
    "    interesting_non_binary = {'age', 'date_admis', 'study_id'}\n",
    "    non_interesting_features = non_binary_features - interesting_non_binary\n",
    "    if not all((set(df.columns) - non_interesting_features) == (set(dfs[0].columns) - non_interesting_features) for df in dfs):\n",
    "        raise ValueError(\"The passed DataFrames do not have the same column labels.\")\n",
    "    if not all((df.columns == dfs_binary[0].columns).all() for df in dfs_binary):\n",
    "        raise ValueError(\"The column labels of the passed DataFrames do not follow the same ordering.\")\n",
    "        \n",
    "    fig, ax = plt.subplots(figsize=(25,7))\n",
    "    xlabels = dfs_binary[0].columns.to_list()\n",
    "    x = np.arange(len(xlabels))\n",
    "    width = 0.75/len(dfs)\n",
    "    for i, df in enumerate(dfs_binary):\n",
    "        ax.bar(x + (i - len(dfs)/2.)*width, df.mean(axis=0), width, label=labels[i])\n",
    "        \n",
    "    ax.legend()\n",
    "    ax.set_xticks(x)\n",
    "    ax.set_xticklabels(xlabels, rotation=90)\n",
    "    ax.set_xlim((-1, len(xlabels)))\n",
    "    ax.set_ylim((0,1))\n",
    "    ax.set_ylabel(\"Proportion of `True`\")\n",
    "    plt.show()\n",
    "    \n",
    "    # The non-binary features `age` and `date_admis` could also revel, non-random missingness:\n",
    "    fig, axs = plt.subplots(ncols=len(interesting_non_binary), figsize=(25,7))\n",
    "    for ax, col_name in zip(axs.flat, interesting_non_binary):\n",
    "        for df, label in zip(dfs, labels):\n",
    "            ax.hist(df[col_name], label=label, histtype='step', density=True)\n",
    "        ax.legend()\n",
    "        ax.set_title(col_name + ' distribution')\n",
    "        ax.set_xlabel(\"Age [years]\" if col_name=='age' else \"Month of 2015\")\n",
    "        ax.set_ylabel(\"Density\")\n",
    "    plt.show()\n",
    "    return"
   ]
  },
  {
   "cell_type": "code",
   "execution_count": 18,
   "metadata": {},
   "outputs": [
    {
     "data": {
      "image/png": "[encoded data removed]",
      "text/plain": [
       "<Figure size 1800x504 with 1 Axes>"
      ]
     },
     "metadata": {
      "needs_background": "light"
     },
     "output_type": "display_data"
    },
    {
     "data": {
      "image/png": "[encoded data removed]",
      "text/plain": [
       "<Figure size 1800x504 with 3 Axes>"
      ]
     },
     "metadata": {
      "needs_background": "light"
     },
     "output_type": "display_data"
    }
   ],
   "source": [
    "# ax = df_quarantine.drop(labels='study_id', axis=1).mean(axis=0).plot(kind='bar', figsize=(20, 6), grid=True, ylim=(0,1))\n",
    "compare_means([df, df_quarantine_missing, df_quarantine_0, df_quarantine_1], ['entire population', '`quarantine` missing', '`quarantine` == 0', 'quarantine == 1'])\n"
   ]
  },
  {
   "cell_type": "markdown",
   "metadata": {},
   "source": [
    "From the bar plot, we identify some features that correlate relatively strongly with quarantine (large discrepancy between `quarantine == 0` and `quarantine == 1`):\n",
    "- evd\n",
    "- death\n",
    "- \\* anuria\n",
    "- \\* dyspnea (only at triage)\n",
    "- diarrhea\n",
    "- vomiting\n",
    "- oral hemorrhage\n",
    "- \\* conjunctivitis\n",
    "\n",
    "We confirm our previous intuition that `NaN` values should not be replaced with `1`. While some features (highlighted with \\*) seem to suggest that the `NaN` population is actually more alike to the `0` population, than to the entire population, this claim can not be made with any reasonable degree of confidence based on the low number of 24 samples with missing `quarantine` values.\n",
    "In a situation like this, we would generally replace the missing values by the column mean due to the low number of missing samples.\n",
    "As `quarantine` was shown to be the most predictive value, however, we might be justified to create a separate binary variable indicating whether the `quarantine` value was missing.\n",
    "This has the effect that the model learns which value would have been most appropriate to replace missing values. This approach also captures the effect of any confounding variable that could be responsible for the missing values (and potentially affect the outcome for the patients), thus making it well-suited to deal with non-MCAR (missing _not_ completely at random) data."
   ]
  },
  {
   "cell_type": "code",
   "execution_count": 19,
   "metadata": {},
   "outputs": [
    {
     "name": "stdout",
     "output_type": "stream",
     "text": [
      "24\n"
     ]
    }
   ],
   "source": [
    "assert df['quarantine'].isna().sum() > 0\n",
    "df['quarantine_missing'] = df['quarantine'].isna().astype('int')\n",
    "print(df['quarantine_missing'].sum())\n",
    "df.loc[ np.where(np.isnan(df['quarantine']))[0] , 'quarantine'] = 0"
   ]
  },
  {
   "cell_type": "code",
   "execution_count": 20,
   "metadata": {},
   "outputs": [
    {
     "data": {
      "text/html": [
       "<div>\n",
       "<style scoped>\n",
       "    .dataframe tbody tr th:only-of-type {\n",
       "        vertical-align: middle;\n",
       "    }\n",
       "\n",
       "    .dataframe tbody tr th {\n",
       "        vertical-align: top;\n",
       "    }\n",
       "\n",
       "    .dataframe thead th {\n",
       "        text-align: right;\n",
       "    }\n",
       "</style>\n",
       "<table border=\"1\" class=\"dataframe\">\n",
       "  <thead>\n",
       "    <tr style=\"text-align: right;\">\n",
       "      <th></th>\n",
       "      <th>study_id</th>\n",
       "      <th>evd</th>\n",
       "      <th>evd_ct</th>\n",
       "      <th>malaria</th>\n",
       "      <th>death</th>\n",
       "      <th>sex</th>\n",
       "      <th>age</th>\n",
       "      <th>quarantine</th>\n",
       "      <th>days_admitted</th>\n",
       "      <th>referral_time</th>\n",
       "      <th>...</th>\n",
       "      <th>hematuria_after</th>\n",
       "      <th>gyne_hemorrhage_after</th>\n",
       "      <th>num_hemorrhage_sites_after</th>\n",
       "      <th>dehydration_after</th>\n",
       "      <th>hepatomegaly_after</th>\n",
       "      <th>jaundice_after</th>\n",
       "      <th>edema_after</th>\n",
       "      <th>splenomegaly_after</th>\n",
       "      <th>referral(4-9)</th>\n",
       "      <th>quarantine_missing</th>\n",
       "    </tr>\n",
       "  </thead>\n",
       "  <tbody>\n",
       "  </tbody>\n",
       "</table>\n",
       "<p>0 rows × 69 columns</p>\n",
       "</div>"
      ],
      "text/plain": [
       "Empty DataFrame\n",
       "Columns: [study_id, evd, evd_ct, malaria, death, sex, age, quarantine, days_admitted, referral_time, date_admis, temp_triage, pyrexia_triage, anuria_triage, dyspnea_triage, disorientation_triage, headache_triage, hiccups_triage, myalgia_triage, rash_triage, dysphagia_triage, asthenia_triage, abdomnial_triage, anorexia_triage, diarrhea_triage, diarrhea_score_triage, vomiting_triage, hemorrhage_triage, orl_hemorrhage_triage, conjonctivitis_triage, hemoptysis_triage, hematochezia_triage, hematuria_triage, gynec_hemorrhage_triage, num_hemorrhages_triage, mult_hemorrhage_triage, dehydration_triage, hepatomegaly_triage, jaundice_triage, edema_triage, splenomegaly_triage, anuria_after, dyspnea_after, disorientation_after, headache_after, hiccups_after, myalgia_after, rash_after, dysphagia_after, asthenia_after, abdominal_after, anorexia_after, diarrhea_score_after, vomiting_after, hemorrhage_after, orl_hemorrhage_after, conjunctivitis_after, hemoptysis_after, hematochezia_after, hematuria_after, gyne_hemorrhage_after, num_hemorrhage_sites_after, dehydration_after, hepatomegaly_after, jaundice_after, edema_after, splenomegaly_after, referral(4-9), quarantine_missing]\n",
       "Index: []\n",
       "\n",
       "[0 rows x 69 columns]"
      ]
     },
     "execution_count": 20,
     "metadata": {},
     "output_type": "execute_result"
    }
   ],
   "source": [
    "df.head(0) # DO NOT PUSH A COMMIT WHERE ANY LINE IS VISIBLE!"
   ]
  },
  {
   "cell_type": "markdown",
   "metadata": {},
   "source": [
    "## Saving the result"
   ]
  },
  {
   "cell_type": "code",
   "execution_count": 60,
   "metadata": {},
   "outputs": [],
   "source": [
    "df.to_csv('../data/private/1_TreatMissing_EbolaDatabase.csv')"
   ]
  },
  {
   "cell_type": "markdown",
   "metadata": {},
   "source": [
    "# 3."
   ]
  },
  {
   "cell_type": "code",
   "execution_count": 23,
   "metadata": {},
   "outputs": [
    {
     "data": {
      "text/plain": [
       "<matplotlib.axes._subplots.AxesSubplot at 0x7f6b966de610>"
      ]
     },
     "execution_count": 23,
     "metadata": {},
     "output_type": "execute_result"
    },
    {
     "data": {
      "image/png": "[encoded data removed]",
      "text/plain": [
       "<Figure size 432x288 with 1 Axes>"
      ]
     },
     "metadata": {
      "needs_background": "light"
     },
     "output_type": "display_data"
    }
   ],
   "source": [
    "df.plot(y='age', kind='hist', bins=21)"
   ]
  },
  {
   "cell_type": "code",
   "execution_count": 19,
   "metadata": {},
   "outputs": [
    {
     "data": {
      "image/png": "[encoded data removed]",
      "text/plain": [
       "<Figure size 1080x504 with 1 Axes>"
      ]
     },
     "metadata": {
      "needs_background": "light"
     },
     "output_type": "display_data"
    }
   ],
   "source": [
    "# Many columns are binary. Let's count the positives (meaningless for non-binary features):\n",
    "df.sum().to_frame().plot(kind='bar', figsize=(15,7))\n",
    "plt.gca().set_ylim((0, len(df)))\n",
    "hline_limit = 75\n",
    "plt.gca().axhline(y=hline_limit, color='r')\n",
    "plt.gca().axhline(y=len(df) - hline_limit, color='r')\n",
    "plt.show()"
   ]
  },
  {
   "cell_type": "markdown",
   "metadata": {},
   "source": [
    "One possibility for dealing with continuous or ordered features for which values are missing not completely at random (not MCAR), at least for ridge or logistic regression:\n",
    "\n",
    "1. Standardize the features if you're going to use regularization (and why wouldn't you)\n",
    "2. Add a one-hot encoded feature \"feature_XY_is_na\" (this feature should be non-zero when the other feature _is_ missing).\n",
    "3. Replace the na values by 0.\n",
    "\n",
    "Result: one weight learns what to contribute to the model when the feature is na, and another learns what to do when it is available. This could, for instance, result in different intercepts for people with vs without missing value, which makes sense if the values are missing for some systematic reason. It's kind of a backwards logic of \"if the Doctor didn't deem it useful to perform this test, that's probably because the person was fine\" or something.\n",
    "\n",
    "Main downside: If the number of missing values is low, "
   ]
  },
  {
   "cell_type": "code",
   "execution_count": null,
   "metadata": {},
   "outputs": [],
   "source": []
  },
  {
   "cell_type": "code",
   "execution_count": null,
   "metadata": {},
   "outputs": [],
   "source": []
  }
 ],
 "metadata": {
  "kernelspec": {
   "display_name": "Python 3",
   "language": "python",
   "name": "python3"
  },
  "language_info": {
   "codemirror_mode": {
    "name": "ipython",
    "version": 3
   },
   "file_extension": ".py",
   "mimetype": "text/x-python",
   "name": "python",
   "nbconvert_exporter": "python",
   "pygments_lexer": "ipython3",
   "version": "3.7.4"
  }
 },
 "nbformat": 4,
 "nbformat_minor": 4
}
