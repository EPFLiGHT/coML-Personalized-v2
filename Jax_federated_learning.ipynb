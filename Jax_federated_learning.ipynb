{
 "cells": [
  {
   "cell_type": "code",
   "execution_count": 1,
   "metadata": {},
   "outputs": [
    {
     "name": "stdout",
     "output_type": "stream",
     "text": [
      "setGPU: Setting GPU to: 7\n"
     ]
    }
   ],
   "source": [
    "import setGPU"
   ]
  },
  {
   "cell_type": "code",
   "execution_count": 8,
   "metadata": {
    "colab": {},
    "colab_type": "code",
    "id": "yRDenD5M0rDY"
   },
   "outputs": [],
   "source": [
    "from typing import Any, Generator, Tuple, Mapping, Sequence, Optional, Callable\n",
    "from collections import namedtuple\n",
    "import functools, inspect, time, random\n",
    "\n",
    "import pandas as pd\n",
    "import numpy as np\n",
    "from absl import app\n",
    "import haiku as hk\n",
    "import jax\n",
    "from jax.experimental import optix\n",
    "from jax.tree_util import tree_multimap, tree_map, tree_reduce\n",
    "import jax.numpy as jnp\n",
    "from jax.lax import fori_loop\n",
    "import tensorflow_datasets as tfds\n",
    "import tensorflow_federated as tff\n",
    "import tensorflow as tf"
   ]
  },
  {
   "cell_type": "code",
   "execution_count": 9,
   "metadata": {
    "colab": {},
    "colab_type": "code",
    "id": "S-RWB9G48uJA"
   },
   "outputs": [],
   "source": [
    "Batch = Mapping[str, jnp.ndarray]\n",
    "LossFunction = Callable[[hk.Params, Batch], jnp.ndarray]\n",
    "OptState = Any\n",
    "\n",
    "\n",
    "# define hyperparameters format.\n",
    "ServerHyperParams = namedtuple(\"ServerHyperParams\", \"num_epochs\\\n",
    "                                                     num_rounds\\\n",
    "                                                     seed\")\n",
    "\n",
    "# message to the client from server.\n",
    "ClientMessage = namedtuple(\"ClientMessage\", \"params\\\n",
    "                                             opt_init_input\")\n",
    "\n",
    "# message to the server from client.\n",
    "ServerMessage = namedtuple(\"ServerMessage\", \"aggregator_input\\\n",
    "                                             stateupdater_input\")\n",
    "\n",
    "\n",
    "# message to the server from client for book keeping.\n",
    "DiagnosticsMessage = namedtuple(\"DiagnosticsMessage\", \"train_loss\\\n",
    "                                                       train_acc\\\n",
    "                                                       test_loss\\\n",
    "                                                       test_acc\\\n",
    "                                                       weight\")\n",
    "ClientOutput = Tuple[ServerMessage, DiagnosticsMessage]\n",
    "\n",
    "# extracts messages from a list of client outputs.\n",
    "@jax.partial(jax.jit, static_argnums=[1])  # fix extractor.\n",
    "def extract_from_cout(\n",
    "    couts: Sequence[ClientOutput],\n",
    "    extractor: Callable[[ClientOutput], Any]\n",
    "    ) -> Sequence[Any]:\n",
    "  print(\"compiling: {}\".format(inspect.currentframe().f_code.co_name))\n",
    "  # TODO: use pytrees.transpose?\n",
    "  # msgs = fori_loop(0, len(couts),\n",
    "  #                    lambda i, msgs: msgs.append(extractor(couts[i])), [])\n",
    "  msgs = [extractor(cout) for cout in couts]\n",
    "  return msgs\n",
    "\n",
    "def make_jax_batch(batch):\n",
    "    jax_batch = {}\n",
    "    for key in batch:\n",
    "        jax_batch[key] = jnp.array(batch[key].numpy())\n",
    "    return jax_batch"
   ]
  },
  {
   "cell_type": "code",
   "execution_count": 10,
   "metadata": {},
   "outputs": [],
   "source": [
    "def load_2017annie_predict_EVD():\n",
    "    X = np.loadtxt('../data/private/predict_EVD/X.csv', skiprows=1, delimiter=',')\n",
    "    y = np.loadtxt('../data/private/predict_EVD/y.csv', skiprows=1, delimiter=',')\n",
    "    assert (X.shape[0] == y.shape[0])\n",
    "    return X,y\n",
    "\n",
    "# This function is not stateless, due to the use of random.shuffle. It is used only once, before the training loop.\n",
    "def split_by_age(X,y, batch_size, seed=0, requesting_client=0, test_ratio=0.5):\n",
    "    ages = pd.read_csv('../data/private/0_raw_EbolaDatabase.csv')['age'].to_numpy()\n",
    "    age_lims = [-1, 20, 40, 1e3]\n",
    "    dss, ds_test = [], None\n",
    "    \n",
    "    for i, (lower, upper) in enumerate(zip(age_lims[:-1], age_lims[1:])):\n",
    "        idx = np.asarray((lower < ages) & (ages <= upper)).nonzero()[0]\n",
    "        random.shuffle(idx)\n",
    "        if i == requesting_client:\n",
    "            test_size = batch_size * (1 + int(len(idx) // batch_size * test_ratio))\n",
    "            ds_test = tf.data.Dataset.from_tensor_slices(\n",
    "                    {'features': X[idx[:test_size]], 'label':y[idx[:test_size]]}\n",
    "                    ).batch(batch_size)\n",
    "            idx = idx[test_size:]\n",
    "#             test_batches = int(len(idx) // batch_size * test_ratio)+1\n",
    "        dss.append( \n",
    "            tf.data.Dataset.from_tensor_slices({'features': X[idx], 'label':y[idx]})\\\n",
    "            .batch(batch_size)\n",
    "        )\n",
    "    \n",
    "    if ds_test is None:\n",
    "        raise ValueError(\"Unexpected 'requesting_client' argument: Expecting a non-negative int lower or equal to {}.\".format(len(age_lims)-2))\n",
    "    \n",
    "    return dss, ds_test"
   ]
  },
  {
   "cell_type": "code",
   "execution_count": 11,
   "metadata": {},
   "outputs": [],
   "source": [
    "# X, y = load_2017annie_predict_EVD()\n",
    "# X_id = np.hstack((np.arange(X.shape[0]).reshape((X.shape[0], 1)), X))\n",
    "# X_id"
   ]
  },
  {
   "cell_type": "code",
   "execution_count": 12,
   "metadata": {},
   "outputs": [],
   "source": [
    "# dss, ds_test = split_by_age(X_id, y, 10)"
   ]
  },
  {
   "cell_type": "code",
   "execution_count": 13,
   "metadata": {
    "colab": {},
    "colab_type": "code",
    "id": "GbTmc5DwjoON"
   },
   "outputs": [],
   "source": [
    "# Neural network model.\n",
    "def net_fn(batch: Batch) -> jnp.ndarray:\n",
    "  \"\"\"Logistic regression for 2-class classification.\"\"\"\n",
    "  x = batch[\"features\"]\n",
    "  logistic_reg = hk.Sequential([\n",
    "      hk.Flatten(),\n",
    "      hk.Linear(2), jax.nn.log_softmax\n",
    "  ])\n",
    "  return logistic_reg(x)\n",
    "net: hk.Transformed = hk.transform(net_fn)\n",
    "\n",
    "# Initialize neural network parameters \n",
    "def init(rng: jax.random.PRNGKey, batch: Batch) -> hk.Params:\n",
    "  return net.init(rng, batch)\n",
    "\n",
    "# get predictions from model.\n",
    "def forward(params: hk.Params, batch: Batch):\n",
    "  return jax.jit(net.apply)(params, batch)\n",
    "\n",
    "\n",
    "# Training loss (cross-entropy).\n",
    "@jax.jit\n",
    "def loss(params: hk.Params, batch: Batch) -> jnp.ndarray:\n",
    "  \"\"\"Compute the loss of the network, including L2.\"\"\"\n",
    "  print(\"compiling: {}\".format(inspect.currentframe().f_code.co_name))\n",
    "  preds = forward(params, batch)\n",
    "  labels = hk.one_hot(batch[\"label\"], 2)\n",
    "  # TODO: Put weight decay into optimizer\n",
    "  l2_loss = 0.5 * sum(jnp.sum(jnp.square(p)) for p in jax.tree_leaves(params))\n",
    "  softmax_xent = -jnp.mean(labels * preds)\n",
    "  return softmax_xent + 1e-4 * l2_loss\n",
    "\n",
    "# Evaluation metric (classification accuracy).\n",
    "@jax.jit\n",
    "def accuracy(params: hk.Params, batch: Batch) -> jnp.ndarray:\n",
    "  print(\"compiling: {}\".format(inspect.currentframe().f_code.co_name))\n",
    "  preds = forward(params, batch)\n",
    "  pred_class = jnp.argmax(preds, axis=-1)\n",
    "  return jnp.mean(pred_class == batch[\"label\"])"
   ]
  },
  {
   "cell_type": "code",
   "execution_count": 14,
   "metadata": {
    "colab": {},
    "colab_type": "code",
    "id": "elJQ6h8MVeH6"
   },
   "outputs": [],
   "source": [
    "# one local update step.\n",
    "@jax.partial(jax.jit, static_argnums=[2,4])  # fix loss function and optimizer.\n",
    "def run_one_step(\n",
    "    params: hk.Params,\n",
    "    batch: Batch,\n",
    "    client_opt: optix.InitUpdate,\n",
    "    opt_state: OptState,\n",
    "    loss: LossFunction\n",
    "    ) -> Tuple[hk.Params, OptState]:\n",
    "  \"\"\"Learning rule (stochastic gradient descent).\"\"\"\n",
    "  print(\"compiling: {}\".format(inspect.currentframe().f_code.co_name))\n",
    "  grads = jax.grad(loss)(params, batch)\n",
    "  updates, opt_state = client_opt.update(grads, opt_state)\n",
    "  new_params = optix.apply_updates(params, updates)\n",
    "  return new_params, opt_state  \n",
    "\n",
    "# perform client updates.\n",
    "def client_updater(\n",
    "    msg: ClientMessage,\n",
    "    ds: tf.data.Dataset,\n",
    "    client_opt: optix.InitUpdate,\n",
    "    loss: LossFunction\n",
    "    ) -> ClientOutput:\n",
    "  opt_state = client_opt.init(*msg.opt_init_input)\n",
    "  # iterate through data making updates.\n",
    "  new_params = msg.params\n",
    "  for minibatch in ds:\n",
    "    new_params, opt_state = run_one_step(new_params,\n",
    "                                         make_jax_batch(minibatch),\n",
    "                                         client_opt, \n",
    "                                         opt_state, \n",
    "                                         loss)\n",
    "  # compute and return the change in parameters.\n",
    "  params_update = tree_multimap(lambda x, y: x - y, new_params, msg.params)\n",
    "  \n",
    "  # TODO: replace with an function which constructs message  \n",
    "  msg_to_server = ServerMessage(\n",
    "      aggregator_input=params_update,\n",
    "      stateupdater_input=None\n",
    "  )\n",
    "\n",
    "  diagnostic_msg = DiagnosticsMessage(\n",
    "      train_loss=0,\n",
    "      train_acc=1,\n",
    "      test_loss=0,\n",
    "      test_acc=1,\n",
    "      weight=1\n",
    "  )\n",
    "  return msg_to_server, diagnostic_msg"
   ]
  },
  {
   "cell_type": "code",
   "execution_count": 15,
   "metadata": {
    "colab": {},
    "colab_type": "code",
    "id": "zvRbtDM1wS_s"
   },
   "outputs": [],
   "source": [
    "# aggregate client updates.\n",
    "# TODO: make the aggregator stateful.\n",
    "@jax.jit\n",
    "def average_params(params_list: Sequence[hk.Params]) -> hk.Params: \n",
    "  print(\"compiling: {}\".format(inspect.currentframe().f_code.co_name))\n",
    "  num_params = len(params_list)\n",
    "  params_sum = functools.reduce(\n",
    "      lambda t1, t2: tree_multimap(sum, t1, t2), params_list)\n",
    "  params_avg = tree_map(lambda x: x/num_params, params_sum)\n",
    "  return params_avg"
   ]
  },
  {
   "cell_type": "code",
   "execution_count": 25,
   "metadata": {
    "colab": {},
    "colab_type": "code",
    "id": "c9V22gJC2DIn"
   },
   "outputs": [],
   "source": [
    "# aggregate diagnositcs.\n",
    "@jax.jit\n",
    "def agg_diagnostics(\n",
    "    client_outputs: Sequence[ClientOutput]) -> DiagnosticsMessage:\n",
    "  d_msgs = extract_from_cout(client_outputs, lambda cout: cout[1])\n",
    "  # TODO: aggregate and report statistics\n",
    "  return d_msgs[0]\n",
    "\n",
    "\n",
    "# update server params.\n",
    "@jax.partial(jax.jit, static_argnums=[2,4])  # fix optimizer and aggregator.\n",
    "def server_updater(\n",
    "    server_params: hk.Params,\n",
    "    client_outputs: Sequence[ClientOutput],\n",
    "    server_opt: optix.InitUpdate,\n",
    "    opt_state: OptState,\n",
    "    aggregator: Callable[[Sequence[Any]], hk.Params]\n",
    "    ) -> Tuple[hk.Params, OptState]:\n",
    "  print(\"compiling: {}\".format(inspect.currentframe().f_code.co_name))\n",
    "  agg_inputs = extract_from_cout(client_outputs,\n",
    "                                 lambda cout: cout[0].aggregator_input)\n",
    "  agg_update = aggregator(agg_inputs)\n",
    "  eff_grads = tree_map(lambda x: -1.0*x, agg_update)  # effective gradient.\n",
    "  updates, opt_state = server_opt.update(eff_grads, opt_state)\n",
    "  # TODO: allow opt_state to also be explicitly updated by state_updater\n",
    "  server_params = optix.apply_updates(server_params, updates)\n",
    "  return server_params, opt_state\n",
    "\n",
    "# one round of federated learning.\n",
    "def run_one_round(\n",
    "    server_params: hk.Params,\n",
    "    hyperparams: ServerHyperParams,\n",
    "    client_data: Sequence[tf.data.Dataset],\n",
    "    client_opt: optix.InitUpdate,\n",
    "    server_opt: optix.InitUpdate,\n",
    "    opt_state: OptState,\n",
    "    aggregator: Callable[[Sequence[Any]], hk.Params],\n",
    "    loss: LossFunction,\n",
    "    rng: jax.random.PRNGKey\n",
    ") -> Tuple[hk.Params, OptState]:\n",
    "  \n",
    "  print(\"computing updates from active clients.\")\n",
    "  # TODO: replace with an function which constructs message\n",
    "  msg_to_clients = ClientMessage(\n",
    "      params=server_params, \n",
    "      opt_init_input=[server_params])\n",
    "  \n",
    "  client_outputs = list(map(lambda ds: client_updater(\n",
    "                          msg_to_clients,\n",
    "                          ds.repeat(hyperparams.num_epochs),\n",
    "                          client_opt,\n",
    "                          loss), dss))\n",
    "  print(\"aggregating client updates.\")\n",
    "  server_params, opt_state = server_updater(\n",
    "      server_params,\n",
    "      client_outputs,      \n",
    "      server_opt,      \n",
    "      opt_state,      \n",
    "      aggregator)\n",
    "  \n",
    "  # TODO: aggregate and incporate new diagnostics. needs state!\n",
    "  diag_state = agg_diagnostics(client_outputs)\n",
    "  \n",
    "  return server_params, opt_state"
   ]
  },
  {
   "cell_type": "code",
   "execution_count": 26,
   "metadata": {
    "colab": {
     "base_uri": "https://localhost:8080/",
     "height": 383
    },
    "colab_type": "code",
    "id": "BuZcD4dEdzF3",
    "outputId": "08edffde-2229-4389-e8b7-bcd7c00320e2"
   },
   "outputs": [],
   "source": [
    "# Testing one round of federated averaging.\n",
    "batch_size=10\n",
    "dss, ds_test = split_by_age(*load_2017annie_predict_EVD(), batch_size)"
   ]
  },
  {
   "cell_type": "code",
   "execution_count": 27,
   "metadata": {
    "colab": {
     "base_uri": "https://localhost:8080/",
     "height": 383
    },
    "colab_type": "code",
    "id": "BuZcD4dEdzF3",
    "outputId": "08edffde-2229-4389-e8b7-bcd7c00320e2"
   },
   "outputs": [
    {
     "name": "stderr",
     "output_type": "stream",
     "text": [
      "/home/grimberg/.local/share/virtualenvs/semester-project-privateML-TGzbS9iS/lib/python3.7/site-packages/jax/lax/lax.py:5104: UserWarning: Explicitly requested dtype float64 requested in zeros is not available, and will be truncated to dtype float32. To enable more dtypes, set the jax_enable_x64 configuration option or the JAX_ENABLE_X64 shell environment variable. See https://github.com/google/jax#current-gotchas for more.\n",
      "  warnings.warn(msg.format(dtype, fun_name , truncated_dtype))\n"
     ]
    }
   ],
   "source": [
    "params = init(jax.random.PRNGKey(42), dss[0].as_numpy_iterator().next())"
   ]
  },
  {
   "cell_type": "code",
   "execution_count": 28,
   "metadata": {
    "colab": {
     "base_uri": "https://localhost:8080/",
     "height": 383
    },
    "colab_type": "code",
    "id": "BuZcD4dEdzF3",
    "outputId": "08edffde-2229-4389-e8b7-bcd7c00320e2"
   },
   "outputs": [
    {
     "name": "stdout",
     "output_type": "stream",
     "text": [
      "computing updates from active clients.\n",
      "compiling: run_one_step\n",
      "compiling: run_one_step\n",
      "aggregating client updates.\n",
      "compiling: server_updater\n",
      "compiling: extract_from_cout\n",
      "compiling: extract_from_cout\n"
     ]
    }
   ],
   "source": [
    "client_opt = optix.sgd(0.1)\n",
    "server_opt = optix.sgd(1.0)\n",
    "opt_state = server_opt.init(params)\n",
    "rng = jax.random.PRNGKey(0)\n",
    "hyperparams = ServerHyperParams(\n",
    "    num_epochs = 5,\n",
    "    num_rounds = 3,\n",
    "    seed = 7\n",
    ")\n",
    "\n",
    "run_one_round(\n",
    "    params,\n",
    "    hyperparams,\n",
    "    dss,\n",
    "    client_opt,\n",
    "    server_opt,\n",
    "    opt_state,\n",
    "    average_params,\n",
    "    loss,\n",
    "    rng\n",
    ");"
   ]
  },
  {
   "cell_type": "code",
   "execution_count": 29,
   "metadata": {
    "colab": {},
    "colab_type": "code",
    "id": "MsHof54fApTp"
   },
   "outputs": [],
   "source": [
    "def federated_learning(\n",
    "    hyperparams: ServerHyperParams,\n",
    "    client_data: Sequence[tf.data.Dataset],\n",
    "    client_opt: optix.InitUpdate,\n",
    "    server_opt: optix.InitUpdate,\n",
    "    aggregator: Callable[[Sequence[hk.Params]], hk.Params],\n",
    "    loss: LossFunction,\n",
    "    init\n",
    "    ) -> hk.Params:\n",
    "  # initialize random generator, params, opt_state.\n",
    "  rng = jax.random.PRNGKey(hyperparams.seed)\n",
    "  # TODO: use synthethic data for init\n",
    "  server_params = init(rng, client_data[0].as_numpy_iterator().next())\n",
    "  opt_state = server_opt.init(server_params)\n",
    "  rngs = jax.random.split(rng, hyperparams.num_rounds)\n",
    "  for round_num, rng in enumerate(rngs):\n",
    "    print(\"\\nrunning round {}\".format(round_num))\n",
    "    server_params, opt_state = run_one_round(server_params, hyperparams, \n",
    "                                             client_data, client_opt, \n",
    "                                             server_opt, opt_state, \n",
    "                                             aggregator, loss, rng)\n",
    "  return server_params"
   ]
  },
  {
   "cell_type": "code",
   "execution_count": 30,
   "metadata": {},
   "outputs": [],
   "source": [
    "def eval_test_score(params: hk.Params, ds: tf.data.Dataset) -> jnp.ndarray:\n",
    "    accs = []\n",
    "    for batch in ds:\n",
    "        accs.append(accuracy(params, make_jax_batch(batch)))\n",
    "    return np.mean(accs)"
   ]
  },
  {
   "cell_type": "code",
   "execution_count": null,
   "metadata": {
    "colab": {
     "base_uri": "https://localhost:8080/",
     "height": 530
    },
    "colab_type": "code",
    "id": "iT-dXeovX2Fd",
    "outputId": "57c040e3-f579-497a-bb96-d30bed2d2004",
    "scrolled": true
   },
   "outputs": [
    {
     "name": "stdout",
     "output_type": "stream",
     "text": [
      "\n",
      "running round 0\n",
      "computing updates from active clients.\n",
      "compiling: run_one_step\n",
      "compiling: run_one_step\n",
      "aggregating client updates.\n",
      "compiling: server_updater\n",
      "compiling: extract_from_cout\n",
      "\n",
      "running round 1\n",
      "computing updates from active clients.\n",
      "aggregating client updates.\n",
      "\n",
      "running round 2\n",
      "computing updates from active clients.\n",
      "aggregating client updates.\n",
      "\n",
      "running round 0\n",
      "computing updates from active clients.\n",
      "compiling: run_one_step\n",
      "compiling: run_one_step\n",
      "aggregating client updates.\n",
      "compiling: server_updater\n",
      "compiling: extract_from_cout\n",
      "\n",
      "running round 1\n",
      "computing updates from active clients.\n"
     ]
    }
   ],
   "source": [
    "# testing federated learning code.\n",
    "bach_size = 10\n",
    "\n",
    "\n",
    "hyperparams = ServerHyperParams(\n",
    "    num_epochs = 30,\n",
    "    num_rounds = 3,\n",
    "    seed = 420\n",
    ")\n",
    "\n",
    "test_scores = {'global': [], 'local': []}# , 'similar': []}\n",
    "for requesting_client in range(3):\n",
    "    dss, ds_test = split_by_age(*load_2017annie_predict_EVD(), batch_size, requesting_client=requesting_client)\n",
    "\n",
    "    opt_params_global = federated_learning(\n",
    "        hyperparams,\n",
    "        dss,\n",
    "        optix.sgd(0.1),\n",
    "        optix.sgd(1.0),\n",
    "        average_params,\n",
    "        loss,\n",
    "        init\n",
    "        );\n",
    "    test_scores['global'].append( eval_test_score(opt_params_global, ds_test) )\n",
    "\n",
    "    opt_params_local = federated_learning(\n",
    "        hyperparams,\n",
    "        dss[requesting_client:requesting_client+1],\n",
    "        optix.sgd(0.1),\n",
    "        optix.sgd(1.0),\n",
    "        average_params,\n",
    "        loss,\n",
    "        init\n",
    "        );\n",
    "    test_scores['local'].append( eval_test_score(opt_params_local, ds_test) )"
   ]
  },
  {
   "cell_type": "code",
   "execution_count": null,
   "metadata": {},
   "outputs": [],
   "source": [
    "import matplotlib.pyplot as plt\n",
    "markers = {'global': '+', 'local': 'x'}\n",
    "for key, val in test_scores.items():\n",
    "    x = np.arange(len(val))\n",
    "    plt.scatter(x, val, label=key, marker=markers[key])\n",
    "plt.legend()\n",
    "plt.xlabel('requesting client')\n",
    "plt.ylabel('accuracy on the test set')\n",
    "plt.show()"
   ]
  },
  {
   "cell_type": "code",
   "execution_count": null,
   "metadata": {},
   "outputs": [],
   "source": [
    "test_scores"
   ]
  },
  {
   "cell_type": "markdown",
   "metadata": {
    "colab_type": "text",
    "id": "EaE23XWAxE2x"
   },
   "source": [
    "# Questions\n",
    "\n",
    "1. Does the net.init also initialize the output layer based on batch size?"
   ]
  }
 ],
 "metadata": {
  "colab": {
   "collapsed_sections": [],
   "name": "Jax federated learning",
   "provenance": []
  },
  "kernelspec": {
   "display_name": "JaxEnv",
   "language": "python",
   "name": "jaxenv"
  },
  "language_info": {
   "codemirror_mode": {
    "name": "ipython",
    "version": 3
   },
   "file_extension": ".py",
   "mimetype": "text/x-python",
   "name": "python",
   "nbconvert_exporter": "python",
   "pygments_lexer": "ipython3",
   "version": "3.7.4"
  }
 },
 "nbformat": 4,
 "nbformat_minor": 4
}
