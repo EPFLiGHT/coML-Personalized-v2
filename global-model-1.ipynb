{
 "cells": [
  {
   "cell_type": "markdown",
   "metadata": {},
   "source": [
    "# Model 1: Predicting EVD(+) vs EVD(-)\n",
    "Replicate the model for predicting Ebola infection (EVD+ vs EVD-) from Annie's 2017 paper.\n",
    "It will serve along with other models, to evaluate the developed methods for model personalisation through data selection."
   ]
  },
  {
   "cell_type": "code",
   "execution_count": 1,
   "metadata": {},
   "outputs": [],
   "source": [
    "import pandas as pd\n",
    "import numpy as np\n",
    "import matplotlib.pyplot as plt\n",
    "from sklearn import model_selection as sk_ms, linear_model as sk_lm"
   ]
  },
  {
   "cell_type": "code",
   "execution_count": 2,
   "metadata": {},
   "outputs": [
    {
     "data": {
      "text/html": [
       "<div>\n",
       "<style scoped>\n",
       "    .dataframe tbody tr th:only-of-type {\n",
       "        vertical-align: middle;\n",
       "    }\n",
       "\n",
       "    .dataframe tbody tr th {\n",
       "        vertical-align: top;\n",
       "    }\n",
       "\n",
       "    .dataframe thead th {\n",
       "        text-align: right;\n",
       "    }\n",
       "</style>\n",
       "<table border=\"1\" class=\"dataframe\">\n",
       "  <thead>\n",
       "    <tr style=\"text-align: right;\">\n",
       "      <th></th>\n",
       "      <th>Unnamed: 0</th>\n",
       "      <th>study_id</th>\n",
       "      <th>evd</th>\n",
       "      <th>evd_ct</th>\n",
       "      <th>malaria</th>\n",
       "      <th>death</th>\n",
       "      <th>sex</th>\n",
       "      <th>age</th>\n",
       "      <th>quarantine</th>\n",
       "      <th>days_admitted</th>\n",
       "      <th>...</th>\n",
       "      <th>hematuria_after</th>\n",
       "      <th>gyne_hemorrhage_after</th>\n",
       "      <th>num_hemorrhage_sites_after</th>\n",
       "      <th>dehydration_after</th>\n",
       "      <th>hepatomegaly_after</th>\n",
       "      <th>jaundice_after</th>\n",
       "      <th>edema_after</th>\n",
       "      <th>splenomegaly_after</th>\n",
       "      <th>referral(4-9)</th>\n",
       "      <th>quarantine_missing</th>\n",
       "    </tr>\n",
       "  </thead>\n",
       "  <tbody>\n",
       "  </tbody>\n",
       "</table>\n",
       "<p>0 rows × 70 columns</p>\n",
       "</div>"
      ],
      "text/plain": [
       "Empty DataFrame\n",
       "Columns: [Unnamed: 0, study_id, evd, evd_ct, malaria, death, sex, age, quarantine, days_admitted, referral_time, date_admis, temp_triage, pyrexia_triage, anuria_triage, dyspnea_triage, disorientation_triage, headache_triage, hiccups_triage, myalgia_triage, rash_triage, dysphagia_triage, asthenia_triage, abdomnial_triage, anorexia_triage, diarrhea_triage, diarrhea_score_triage, vomiting_triage, hemorrhage_triage, orl_hemorrhage_triage, conjonctivitis_triage, hemoptysis_triage, hematochezia_triage, hematuria_triage, gynec_hemorrhage_triage, num_hemorrhages_triage, mult_hemorrhage_triage, dehydration_triage, hepatomegaly_triage, jaundice_triage, edema_triage, splenomegaly_triage, anuria_after, dyspnea_after, disorientation_after, headache_after, hiccups_after, myalgia_after, rash_after, dysphagia_after, asthenia_after, abdominal_after, anorexia_after, diarrhea_score_after, vomiting_after, hemorrhage_after, orl_hemorrhage_after, conjunctivitis_after, hemoptysis_after, hematochezia_after, hematuria_after, gyne_hemorrhage_after, num_hemorrhage_sites_after, dehydration_after, hepatomegaly_after, jaundice_after, edema_after, splenomegaly_after, referral(4-9), quarantine_missing]\n",
       "Index: []\n",
       "\n",
       "[0 rows x 70 columns]"
      ]
     },
     "execution_count": 2,
     "metadata": {},
     "output_type": "execute_result"
    }
   ],
   "source": [
    "# Load the pre-processed dataset:\n",
    "df = pd.read_csv('../data/private/1_TreatMissing_EbolaDatabase.csv')\n",
    "df.head(0) # DO NOT PUSH A COMMIT WHERE ANY LINE IS VISIBLE"
   ]
  },
  {
   "cell_type": "markdown",
   "metadata": {},
   "source": [
    "## Build the feature matrix $\\mathbf{X}$ and the target vector $\\mathbf{y}$ "
   ]
  },
  {
   "cell_type": "code",
   "execution_count": 3,
   "metadata": {},
   "outputs": [
    {
     "data": {
      "text/plain": [
       "array(['Unnamed: 0', 'study_id', 'evd', 'evd_ct', 'malaria', 'death',\n",
       "       'sex', 'age', 'quarantine', 'days_admitted', 'referral_time',\n",
       "       'date_admis', 'temp_triage', 'pyrexia_triage', 'anuria_triage',\n",
       "       'dyspnea_triage', 'disorientation_triage', 'headache_triage',\n",
       "       'hiccups_triage', 'myalgia_triage', 'rash_triage',\n",
       "       'dysphagia_triage', 'asthenia_triage', 'abdomnial_triage',\n",
       "       'anorexia_triage', 'diarrhea_triage', 'diarrhea_score_triage',\n",
       "       'vomiting_triage', 'hemorrhage_triage', 'orl_hemorrhage_triage',\n",
       "       'conjonctivitis_triage', 'hemoptysis_triage',\n",
       "       'hematochezia_triage', 'hematuria_triage',\n",
       "       'gynec_hemorrhage_triage', 'num_hemorrhages_triage',\n",
       "       'mult_hemorrhage_triage', 'dehydration_triage',\n",
       "       'hepatomegaly_triage', 'jaundice_triage', 'edema_triage',\n",
       "       'splenomegaly_triage', 'referral(4-9)', 'quarantine_missing'],\n",
       "      dtype='<U23')"
      ]
     },
     "execution_count": 3,
     "metadata": {},
     "output_type": "execute_result"
    }
   ],
   "source": [
    "np.array([c for c in df.columns if not 'after' in c])"
   ]
  },
  {
   "cell_type": "markdown",
   "metadata": {},
   "source": [
    "Of course, the prediction model is not useful if it relies on features collected upon release of the patients (by that time, the outcome is known).\n",
    "We therefore focus our efforts on the features collected during patient triage.\n",
    "\n",
    "Diarrhea is used in the model proposed in Annie's paper, and it seems to be a binary feature.\n",
    "Here, however, we have two features at our disposal:\n",
    "- `diarrhea_triage` is simply binary.\n",
    "- `diarrhea_score_triage` is an ordered variable, going from 0 to 3 in integer steps depending on the number of diarrhea episodes experienced by the patient.\n",
    "\n",
    "We plot `evd` against `diarrhea_score_triage` to identify whether a linear correlation exists:"
   ]
  },
  {
   "cell_type": "code",
   "execution_count": 4,
   "metadata": {},
   "outputs": [
    {
     "data": {
      "text/plain": [
       "<matplotlib.axes._subplots.AxesSubplot at 0x7f114f2e2050>"
      ]
     },
     "execution_count": 4,
     "metadata": {},
     "output_type": "execute_result"
    },
    {
     "data": {
      "image/png": "[encoded data removed]",
      "text/plain": [
       "<Figure size 432x288 with 1 Axes>"
      ]
     },
     "metadata": {
      "needs_background": "light"
     },
     "output_type": "display_data"
    }
   ],
   "source": [
    "df_diarrhea = df.loc[:, ['evd', 'diarrhea_score_triage']]\n",
    "df_diarrhea['total'] = 1\n",
    "df_diarrhea.groupby('diarrhea_score_triage').sum().plot(ylim=(0,600), kind='bar')"
   ]
  },
  {
   "cell_type": "markdown",
   "metadata": {},
   "source": [
    "On second thought, there really are not enough samples for `diarrhea_score_triage > 1` to conduct a meaningful analysis (10 with a score of 2, and 2 with a score of 3). Therefore, we use the binary variable `diarrhea_triage`."
   ]
  },
  {
   "cell_type": "code",
   "execution_count": 5,
   "metadata": {},
   "outputs": [],
   "source": [
    "targets = ['evd']\n",
    "predictors = ['quarantine', 'quarantine_missing', 'conjonctivitis_triage', 'diarrhea_triage', 'referral(4-9)', 'pyrexia_triage', 'dysphagia_triage', 'hemorrhage_triage', 'myalgia_triage' ]\n",
    "assert set(predictors).issubset(df.columns)\n",
    "assert set(targets).issubset(df.columns)"
   ]
  },
  {
   "cell_type": "code",
   "execution_count": 6,
   "metadata": {},
   "outputs": [
    {
     "name": "stdout",
     "output_type": "stream",
     "text": [
      "575\n"
     ]
    },
    {
     "data": {
      "text/html": [
       "<div>\n",
       "<style scoped>\n",
       "    .dataframe tbody tr th:only-of-type {\n",
       "        vertical-align: middle;\n",
       "    }\n",
       "\n",
       "    .dataframe tbody tr th {\n",
       "        vertical-align: top;\n",
       "    }\n",
       "\n",
       "    .dataframe thead th {\n",
       "        text-align: right;\n",
       "    }\n",
       "</style>\n",
       "<table border=\"1\" class=\"dataframe\">\n",
       "  <thead>\n",
       "    <tr style=\"text-align: right;\">\n",
       "      <th></th>\n",
       "      <th>quarantine</th>\n",
       "      <th>quarantine_missing</th>\n",
       "      <th>conjonctivitis_triage</th>\n",
       "      <th>diarrhea_triage</th>\n",
       "      <th>referral(4-9)</th>\n",
       "      <th>pyrexia_triage</th>\n",
       "      <th>dysphagia_triage</th>\n",
       "      <th>hemorrhage_triage</th>\n",
       "      <th>myalgia_triage</th>\n",
       "    </tr>\n",
       "  </thead>\n",
       "  <tbody>\n",
       "  </tbody>\n",
       "</table>\n",
       "</div>"
      ],
      "text/plain": [
       "Empty DataFrame\n",
       "Columns: [quarantine, quarantine_missing, conjonctivitis_triage, diarrhea_triage, referral(4-9), pyrexia_triage, dysphagia_triage, hemorrhage_triage, myalgia_triage]\n",
       "Index: []"
      ]
     },
     "execution_count": 6,
     "metadata": {},
     "output_type": "execute_result"
    }
   ],
   "source": [
    "X = df.loc[:, predictors].copy()\n",
    "print(len(X))\n",
    "X.head(0)"
   ]
  },
  {
   "cell_type": "code",
   "execution_count": 7,
   "metadata": {},
   "outputs": [
    {
     "name": "stdout",
     "output_type": "stream",
     "text": [
      "575\n"
     ]
    },
    {
     "data": {
      "text/html": [
       "<div>\n",
       "<style scoped>\n",
       "    .dataframe tbody tr th:only-of-type {\n",
       "        vertical-align: middle;\n",
       "    }\n",
       "\n",
       "    .dataframe tbody tr th {\n",
       "        vertical-align: top;\n",
       "    }\n",
       "\n",
       "    .dataframe thead th {\n",
       "        text-align: right;\n",
       "    }\n",
       "</style>\n",
       "<table border=\"1\" class=\"dataframe\">\n",
       "  <thead>\n",
       "    <tr style=\"text-align: right;\">\n",
       "      <th></th>\n",
       "      <th>evd</th>\n",
       "    </tr>\n",
       "  </thead>\n",
       "  <tbody>\n",
       "  </tbody>\n",
       "</table>\n",
       "</div>"
      ],
      "text/plain": [
       "Empty DataFrame\n",
       "Columns: [evd]\n",
       "Index: []"
      ]
     },
     "execution_count": 7,
     "metadata": {},
     "output_type": "execute_result"
    }
   ],
   "source": [
    "y = df.loc[:, targets].copy()\n",
    "print(len(y))\n",
    "y.head(0)"
   ]
  },
  {
   "cell_type": "code",
   "execution_count": 8,
   "metadata": {},
   "outputs": [
    {
     "name": "stdout",
     "output_type": "stream",
     "text": [
      "575\n"
     ]
    },
    {
     "data": {
      "text/html": [
       "<div>\n",
       "<style scoped>\n",
       "    .dataframe tbody tr th:only-of-type {\n",
       "        vertical-align: middle;\n",
       "    }\n",
       "\n",
       "    .dataframe tbody tr th {\n",
       "        vertical-align: top;\n",
       "    }\n",
       "\n",
       "    .dataframe thead th {\n",
       "        text-align: right;\n",
       "    }\n",
       "</style>\n",
       "<table border=\"1\" class=\"dataframe\">\n",
       "  <thead>\n",
       "    <tr style=\"text-align: right;\">\n",
       "      <th></th>\n",
       "      <th>age</th>\n",
       "    </tr>\n",
       "  </thead>\n",
       "  <tbody>\n",
       "  </tbody>\n",
       "</table>\n",
       "</div>"
      ],
      "text/plain": [
       "Empty DataFrame\n",
       "Columns: [age]\n",
       "Index: []"
      ]
     },
     "execution_count": 8,
     "metadata": {},
     "output_type": "execute_result"
    }
   ],
   "source": [
    "age = df.loc[:, ['age']].copy()\n",
    "print(len(age))\n",
    "age.head(0)"
   ]
  },
  {
   "cell_type": "code",
   "execution_count": 9,
   "metadata": {},
   "outputs": [
    {
     "data": {
      "text/plain": [
       "(144, 9)"
      ]
     },
     "execution_count": 9,
     "metadata": {},
     "output_type": "execute_result"
    }
   ],
   "source": [
    "X_train, X_test, y_train, y_test = sk_ms.train_test_split(X,y, shuffle=True)\n",
    "X_test.shape"
   ]
  },
  {
   "cell_type": "markdown",
   "metadata": {},
   "source": [
    "## Save the feature matrix $\\mathbf{X}$, the target vector $\\mathbf{y}$, and the age (for reference)"
   ]
  },
  {
   "cell_type": "code",
   "execution_count": 10,
   "metadata": {},
   "outputs": [],
   "source": [
    "import os\n",
    "save_dir = '../data/private/predict_EVD'\n",
    "if not os.path.isdir(save_dir):\n",
    "    os.mkdir(save_dir)\n",
    "X.to_csv(os.path.join(save_dir, 'X.csv'), index=False)\n",
    "y.to_csv(os.path.join(save_dir, 'y.csv'), index=False)\n",
    "age.to_csv(os.path.join(save_dir, 'age.csv'), index=False)"
   ]
  },
  {
   "cell_type": "markdown",
   "metadata": {},
   "source": [
    "## Train a logistic regression model"
   ]
  },
  {
   "cell_type": "code",
   "execution_count": 10,
   "metadata": {},
   "outputs": [],
   "source": [
    "model = sk_lm.LogisticRegressionCV(Cs=np.logspace(-3,1,num=60), cv=4)"
   ]
  },
  {
   "cell_type": "code",
   "execution_count": 11,
   "metadata": {},
   "outputs": [
    {
     "name": "stderr",
     "output_type": "stream",
     "text": [
      "/opt/anaconda3/lib/python3.7/site-packages/sklearn/utils/validation.py:724: DataConversionWarning: A column-vector y was passed when a 1d array was expected. Please change the shape of y to (n_samples, ), for example using ravel().\n",
      "  y = column_or_1d(y, warn=True)\n"
     ]
    },
    {
     "name": "stdout",
     "output_type": "stream",
     "text": [
      "Inverse of regularisation coefficient: 0.7038135554931555\n",
      "Corresponding validation score (averaged across folds): 85.37339910003462 %\n"
     ]
    }
   ],
   "source": [
    "model.fit(X_train, y_train)\n",
    "print(\"Inverse of regularisation coefficient:\", model.C_[0])\n",
    "avg_scores = model.scores_[1].mean(axis=0)\n",
    "print(\"Corresponding validation score (averaged across folds):\", avg_scores.max()*100, \"%\")"
   ]
  },
  {
   "cell_type": "code",
   "execution_count": 12,
   "metadata": {},
   "outputs": [
    {
     "data": {
      "text/plain": [
       "Text(0, 0.5, 'Accuracy [%]')"
      ]
     },
     "execution_count": 12,
     "metadata": {},
     "output_type": "execute_result"
    },
    {
     "data": {
      "image/png": "[encoded data removed]",
      "text/plain": [
       "<Figure size 432x288 with 1 Axes>"
      ]
     },
     "metadata": {
      "needs_background": "light"
     },
     "output_type": "display_data"
    }
   ],
   "source": [
    "plt.semilogx(model.Cs_, avg_scores*100)\n",
    "plt.title('Validation score (averaged across folds) during cross-validation')\n",
    "plt.xlabel('C (inverse of regularization parameter)')\n",
    "plt.ylabel('Accuracy [%]')"
   ]
  },
  {
   "cell_type": "code",
   "execution_count": 13,
   "metadata": {},
   "outputs": [
    {
     "name": "stdout",
     "output_type": "stream",
     "text": [
      "Corresponding validation score (averaged across folds): 0.8537339910003462\n"
     ]
    }
   ],
   "source": [
    "\n",
    "avg_scores = model.scores_[1].mean(axis=0)\n",
    "print(\"Corresponding validation score (averaged across folds):\", avg_scores.max())"
   ]
  },
  {
   "cell_type": "markdown",
   "metadata": {},
   "source": [
    "## Evaluate the model\n",
    "\n",
    "We begin by evaluating its score (accuracy) on the test set:"
   ]
  },
  {
   "cell_type": "code",
   "execution_count": 14,
   "metadata": {},
   "outputs": [
    {
     "data": {
      "text/plain": [
       "0.7708333333333334"
      ]
     },
     "execution_count": 14,
     "metadata": {},
     "output_type": "execute_result"
    }
   ],
   "source": [
    "model.score(X_test, y_test)"
   ]
  },
  {
   "cell_type": "code",
   "execution_count": 16,
   "metadata": {},
   "outputs": [
    {
     "name": "stdout",
     "output_type": "stream",
     "text": [
      "Test accuracy of a baseline model that predicts 0 regardless of the features: evd    0.708333\n",
      "dtype: float64\n"
     ]
    }
   ],
   "source": [
    "print(\"Test accuracy of a baseline model that predicts 0 regardless of the features:\", 1-np.mean(y_test))"
   ]
  },
  {
   "cell_type": "markdown",
   "metadata": {},
   "source": [
    "The model generalizes medium well: Its test error (1-accuracy) is 34% greater than its validation error. In particular, the accuracy of 79% on the test set is lower than the accuracy of 89% obtained in Annie's paper.\n",
    "\n",
    "Finally, we display the intercept and the coefficients and compare them with the model described in Annie's paper:"
   ]
  },
  {
   "cell_type": "code",
   "execution_count": 79,
   "metadata": {},
   "outputs": [
    {
     "name": "stdout",
     "output_type": "stream",
     "text": [
      "Intercept: [-2.82815156]\n",
      "Coefficients:\n",
      " {'quarantine': 1.819751771499741, 'quarantine_missing': 0.353819697770931, 'conjonctivitis_triage': 1.3966816480481956, 'diarrhea_triage': 1.0488543066967129, 'referral(4-9)': 1.0816016292060706, 'pyrexia_triage': 0.3769283857926169, 'dysphagia_triage': 0.5626054205326325, 'hemorrhage_triage': 0.3764649262842281, 'myalgia_triage': -0.36070330201615547}\n"
     ]
    }
   ],
   "source": [
    "print('Intercept:', model.intercept_)\n",
    "print('Coefficients:\\n', dict(zip(predictors, model.coef_.flat)))"
   ]
  },
  {
   "cell_type": "code",
   "execution_count": 86,
   "metadata": {},
   "outputs": [
    {
     "data": {
      "image/png": "[encoded data removed]",
      "text/plain": [
       "<Figure size 432x288 with 1 Axes>"
      ]
     },
     "metadata": {
      "needs_background": "light"
     },
     "output_type": "display_data"
    }
   ],
   "source": [
    "plt.bar(['Intercept']+predictors, list(model.intercept_.flat) + list(model.coef_.flat))\n",
    "plt.xticks(rotation=90)\n",
    "plt.yticks(ticks=np.arange(-3, 2.5, 0.5))\n",
    "plt.grid(axis='y')\n",
    "plt.show()"
   ]
  },
  {
   "cell_type": "markdown",
   "metadata": {},
   "source": [
    "The coefficients are similar (not in absolute value, of course) to those found in Annie's paper:\n",
    "- sick contact is the strongest (positive) predictor\n",
    "- conjunctivitis is the next strongest (its coefficient is 2/3 of the quarantine coef in the paper)\n",
    "- diarrhea and referral(4-9) are next (their coefficient is 1/2 of the quarantine coef in the paper)\n",
    "- Then come dysphagia and hemorrhage (their coefficient is 1/3 of the quarantine coef in the paper)\n",
    "- Pyrexia is the weakest positive predictor (its coefficient is 1/6 of the quarantine coef in the paper)\n",
    "- Finally, myalgia is a mild negative predictor (its coefficient is -1/3 of the quarantine coef in the paper)\n",
    "\n",
    "Hemorrhage and myalgia are found somewhat weaker here, but the similarity is good overall."
   ]
  },
  {
   "cell_type": "code",
   "execution_count": 85,
   "metadata": {},
   "outputs": [
    {
     "name": "stdout",
     "output_type": "stream",
     "text": [
      "mean of the available values for `quarantine`: 0.24682395644283123\n",
      "Coef for quarantine_missing VS coef for quarantine: 0.194432945917306\n"
     ]
    }
   ],
   "source": [
    "print(\"mean of the available values for `quarantine`:\", df['quarantine'].sum() / (len(df) - df['quarantine_missing'].sum()))\n",
    "print(\"Coef for quarantine_missing VS coef for quarantine:\", model.coef_.flat[1] / model.coef_.flat[0])"
   ]
  },
  {
   "cell_type": "code",
   "execution_count": null,
   "metadata": {},
   "outputs": [],
   "source": []
  }
 ],
 "metadata": {
  "kernelspec": {
   "display_name": "Python 3",
   "language": "python",
   "name": "python3"
  },
  "language_info": {
   "codemirror_mode": {
    "name": "ipython",
    "version": 3
   },
   "file_extension": ".py",
   "mimetype": "text/x-python",
   "name": "python",
   "nbconvert_exporter": "python",
   "pygments_lexer": "ipython3",
   "version": "3.7.4"
  }
 },
 "nbformat": 4,
 "nbformat_minor": 4
}
